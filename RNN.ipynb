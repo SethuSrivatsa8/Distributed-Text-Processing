{
  "cells": [
    {
      "cell_type": "markdown",
      "source": [
        "## Overview\n",
        "\n",
        "This notebook will show you how to create and query a table or DataFrame that you uploaded to DBFS. [DBFS](https://docs.databricks.com/user-guide/dbfs-databricks-file-system.html) is a Databricks File System that allows you to store data for querying inside of Databricks. This notebook assumes that you have a file already inside of DBFS that you would like to read from.\n",
        "\n",
        "This notebook is written in **Python** so the default cell type is Python. However, you can use different languages by using the `%LANGUAGE` syntax. Python, Scala, SQL, and R are all supported."
      ],
      "metadata": {
        "application/vnd.databricks.v1+cell": {
          "showTitle": false,
          "cellMetadata": {},
          "nuid": "96816ed7-b08a-4ca3-abb9-f99880c3535d",
          "inputWidgets": {},
          "title": ""
        },
        "id": "ywuVtNyyUrtP"
      }
    },
    {
      "cell_type": "code",
      "source": [
        "% Basic preprocessing and statistical analysis\n"
      ],
      "metadata": {
        "application/vnd.databricks.v1+cell": {
          "showTitle": false,
          "cellMetadata": {},
          "nuid": "2fc6e998-5128-4f4d-823f-b9eede54c3ec",
          "inputWidgets": {},
          "title": ""
        },
        "id": "lU6kR_s1UrtU"
      },
      "outputs": [],
      "execution_count": null
    },
    {
      "cell_type": "code",
      "source": [
        "# File location and type\n",
        "file_location = \"/FileStore/tables/data_f.csv\"\n",
        "file_type = \"csv\"\n",
        "\n",
        "# CSV options\n",
        "infer_schema = \"true\"\n",
        "first_row_is_header = \"true\"\n",
        "delimiter = \",\"\n",
        "\n",
        "# The applied options are for CSV files. For other file types, these will be ignored.\n",
        "df = spark.read.format(file_type) \\\n",
        "  .option(\"inferSchema\", infer_schema) \\\n",
        "  .option(\"header\", first_row_is_header) \\\n",
        "  .option(\"sep\", delimiter) \\\n",
        "  .load(file_location)\n",
        "\n",
        "df.show(5)"
      ],
      "metadata": {
        "application/vnd.databricks.v1+cell": {
          "showTitle": false,
          "cellMetadata": {
            "rowLimit": 10000,
            "byteLimit": 2048000
          },
          "nuid": "6482be4c-f067-47c9-b0ac-35c938b94601",
          "inputWidgets": {},
          "title": ""
        },
        "id": "32MxwxmfUrtV",
        "outputId": "a92f039d-952e-46ca-d424-742a92099393"
      },
      "outputs": [
        {
          "output_type": "stream",
          "name": "stdout",
          "text": [
            "+--------------------+--------------------+--------------------+\n|             overall|          reviewText|             summary|\n+--------------------+--------------------+--------------------+\n|                   5|The stained glass...|           Nice book|\n|                   5|My 11 y.o. loved ...|                null|\n|Dragons and Wizar...| that make it \"\"s...| or anything else...|\n|Even the perfecti...| so it tends to b...|      Great pictures|\n|                   5|The pictures are ...|The pictures are ...|\n+--------------------+--------------------+--------------------+\nonly showing top 5 rows\n\n"
          ]
        }
      ],
      "execution_count": null
    },
    {
      "cell_type": "code",
      "source": [
        "from pyspark.sql.functions import col\n",
        "\n",
        "df = df.filter(~col(\"overall\").rlike('\\D'))\n",
        "df.show(5)"
      ],
      "metadata": {
        "application/vnd.databricks.v1+cell": {
          "showTitle": false,
          "cellMetadata": {
            "rowLimit": 10000,
            "byteLimit": 2048000
          },
          "nuid": "00419181-1e7c-4cc3-ae08-b71ad2ffe00e",
          "inputWidgets": {},
          "title": ""
        },
        "id": "gHX9w4LHUrtX",
        "outputId": "16f5baa5-e1aa-4e08-96e6-21282c7c770a"
      },
      "outputs": [
        {
          "output_type": "stream",
          "name": "stdout",
          "text": [
            "+-------+--------------------+--------------------+\n|overall|          reviewText|             summary|\n+-------+--------------------+--------------------+\n|      5|The stained glass...|           Nice book|\n|      5|My 11 y.o. loved ...|                null|\n|      5|The pictures are ...|The pictures are ...|\n|      5|I absolutely love...|       So beautiful!|\n|      5|          I love it!|          Five Stars|\n+-------+--------------------+--------------------+\nonly showing top 5 rows\n\n"
          ]
        }
      ],
      "execution_count": null
    },
    {
      "cell_type": "code",
      "source": [
        "df.count()"
      ],
      "metadata": {
        "application/vnd.databricks.v1+cell": {
          "showTitle": false,
          "cellMetadata": {
            "rowLimit": 10000,
            "byteLimit": 2048000
          },
          "nuid": "dfeccce7-1ac4-4b70-bd04-7298766e5c99",
          "inputWidgets": {},
          "title": ""
        },
        "id": "Yd5cxImOUrtY",
        "outputId": "38d47225-d152-4c3e-b5c0-2e7e6480bab0"
      },
      "outputs": [
        {
          "output_type": "stream",
          "name": "stdout",
          "text": [
            "Out[116]: 1827525"
          ]
        }
      ],
      "execution_count": null
    },
    {
      "cell_type": "code",
      "source": [
        "# Load the data\n",
        "from pyspark.sql.functions import col\n",
        "\n",
        "data = df.select(col(\"reviewText\"), col(\"overall\"))"
      ],
      "metadata": {
        "application/vnd.databricks.v1+cell": {
          "showTitle": false,
          "cellMetadata": {
            "rowLimit": 10000,
            "byteLimit": 2048000
          },
          "nuid": "bf371c8e-4f49-496a-ab7a-f614ac8a9db6",
          "inputWidgets": {},
          "title": ""
        },
        "id": "WzoOFlH6UrtY"
      },
      "outputs": [],
      "execution_count": null
    },
    {
      "cell_type": "code",
      "source": [
        "from pyspark.sql.functions import col, sum\n",
        "\n",
        "# Count the number of null values in each column\n",
        "null_counts = data.select([sum(col(c).isNull().cast(\"int\")).alias(c) for c in data.columns])\n",
        "\n",
        "# Display the result\n",
        "null_counts.show()\n"
      ],
      "metadata": {
        "application/vnd.databricks.v1+cell": {
          "showTitle": false,
          "cellMetadata": {
            "rowLimit": 10000,
            "byteLimit": 2048000
          },
          "nuid": "101432b9-a5d0-4680-894e-9d1a9cbcd389",
          "inputWidgets": {},
          "title": ""
        },
        "id": "FpHzOcdiUrtY",
        "outputId": "dc10803d-90a3-4a2e-d9e8-ba8076d97427"
      },
      "outputs": [
        {
          "output_type": "stream",
          "name": "stdout",
          "text": [
            "+----------+-------+\n|reviewText|overall|\n+----------+-------+\n|         9|      0|\n+----------+-------+\n\n"
          ]
        }
      ],
      "execution_count": null
    },
    {
      "cell_type": "code",
      "source": [
        "# drop any rows with null values\n",
        "data = data.na.drop()"
      ],
      "metadata": {
        "application/vnd.databricks.v1+cell": {
          "showTitle": false,
          "cellMetadata": {
            "rowLimit": 10000,
            "byteLimit": 2048000
          },
          "nuid": "0b5c68e1-28a2-4b24-bb7e-3a30b30f9bae",
          "inputWidgets": {},
          "title": ""
        },
        "id": "eFIEx5udUrtZ"
      },
      "outputs": [],
      "execution_count": null
    },
    {
      "cell_type": "code",
      "source": [
        "from pyspark.sql.functions import col, sum\n",
        "\n",
        "# Count the number of null values in each column\n",
        "null_counts = data.select([sum(col(c).isNull().cast(\"int\")).alias(c) for c in data.columns])\n",
        "\n",
        "# Display the result\n",
        "null_counts.show()\n"
      ],
      "metadata": {
        "application/vnd.databricks.v1+cell": {
          "showTitle": false,
          "cellMetadata": {
            "rowLimit": 10000,
            "byteLimit": 2048000
          },
          "nuid": "e213a9b2-b14f-4c30-9f09-0018e44d6f57",
          "inputWidgets": {},
          "title": ""
        },
        "id": "YGc6I05RUrtZ",
        "outputId": "7bf6c4d4-a6d5-405e-f381-0cd81b4285cd"
      },
      "outputs": [
        {
          "output_type": "stream",
          "name": "stdout",
          "text": [
            "+----------+-------+\n|reviewText|overall|\n+----------+-------+\n|         0|      0|\n+----------+-------+\n\n"
          ]
        }
      ],
      "execution_count": null
    },
    {
      "cell_type": "code",
      "source": [
        "data.count()"
      ],
      "metadata": {
        "application/vnd.databricks.v1+cell": {
          "showTitle": false,
          "cellMetadata": {
            "rowLimit": 10000,
            "byteLimit": 2048000
          },
          "nuid": "88d3ba6c-7179-4a0e-888f-812165f7165d",
          "inputWidgets": {},
          "title": ""
        },
        "id": "TO6LZGszUrta",
        "outputId": "e79eaf7a-3086-4e50-e285-a7e23161c6a0"
      },
      "outputs": [
        {
          "output_type": "stream",
          "name": "stdout",
          "text": [
            "Out[121]: 1827516"
          ]
        }
      ],
      "execution_count": null
    },
    {
      "cell_type": "code",
      "source": [
        "df.printSchema()\n",
        "df.show(5)"
      ],
      "metadata": {
        "application/vnd.databricks.v1+cell": {
          "showTitle": false,
          "cellMetadata": {
            "rowLimit": 10000,
            "byteLimit": 2048000
          },
          "nuid": "11321d55-e3bd-48db-983f-58fe700e4730",
          "inputWidgets": {},
          "title": ""
        },
        "id": "bJxKPWWjUrtb",
        "outputId": "7ddfe3e6-0ae3-422e-b34d-f191bd1c2cce"
      },
      "outputs": [
        {
          "output_type": "stream",
          "name": "stdout",
          "text": [
            "root\n |-- overall: string (nullable = true)\n |-- reviewText: string (nullable = true)\n |-- summary: string (nullable = true)\n\n+-------+--------------------+--------------------+\n|overall|          reviewText|             summary|\n+-------+--------------------+--------------------+\n|      4|                cool|          Four Stars|\n|      3|This is pretty mu...|This is pretty mu...|\n|      4|its a cute little...|                Tiny|\n|      5|Perfect for that ...|Entertains A 5 Ye...|\n|      5|Great product. To...|             Awesome|\n+-------+--------------------+--------------------+\nonly showing top 5 rows\n\n"
          ]
        }
      ],
      "execution_count": null
    },
    {
      "cell_type": "code",
      "source": [
        "from pyspark.sql.functions import col\n",
        "df = df.withColumn(\"overall\", col(\"overall\").cast(\"float\"))\n"
      ],
      "metadata": {
        "application/vnd.databricks.v1+cell": {
          "showTitle": false,
          "cellMetadata": {
            "rowLimit": 10000,
            "byteLimit": 2048000
          },
          "nuid": "e4d16d6b-511b-4797-a538-2d130cbb01dd",
          "inputWidgets": {},
          "title": ""
        },
        "id": "KLF5m__HUrtc"
      },
      "outputs": [],
      "execution_count": null
    },
    {
      "cell_type": "code",
      "source": [
        "df.printSchema()\n",
        "df.show(5)"
      ],
      "metadata": {
        "application/vnd.databricks.v1+cell": {
          "showTitle": false,
          "cellMetadata": {
            "rowLimit": 10000,
            "byteLimit": 2048000
          },
          "nuid": "3b463927-abd9-4d18-8385-7f9a8364110b",
          "inputWidgets": {},
          "title": ""
        },
        "id": "OufGEZcHUrtc",
        "outputId": "d4839959-0c58-4fa2-9a65-c5518333b23e"
      },
      "outputs": [
        {
          "output_type": "stream",
          "name": "stdout",
          "text": [
            "root\n |-- overall: float (nullable = true)\n |-- reviewText: string (nullable = true)\n |-- summary: string (nullable = true)\n\n+-------+--------------------+--------------------+\n|overall|          reviewText|             summary|\n+-------+--------------------+--------------------+\n|    4.0|                cool|          Four Stars|\n|    3.0|This is pretty mu...|This is pretty mu...|\n|    4.0|its a cute little...|                Tiny|\n|    5.0|Perfect for that ...|Entertains A 5 Ye...|\n|    5.0|Great product. To...|             Awesome|\n+-------+--------------------+--------------------+\nonly showing top 5 rows\n\n"
          ]
        }
      ],
      "execution_count": null
    },
    {
      "cell_type": "code",
      "source": [
        "from pyspark.sql import SparkSession\n",
        "from pyspark.ml.feature import Tokenizer, HashingTF\n",
        "from pyspark.ml.evaluation import MulticlassClassificationEvaluator\n",
        "from pyspark.ml.classification import MultilayerPerceptronClassifier\n",
        "from pyspark.sql.types import IntegerType\n",
        "# Create a SparkSession\n",
        "spark = SparkSession.builder.getOrCreate()\n",
        "\n",
        "# Step 1: Split the Data\n",
        "train_df, test_df = df.randomSplit([0.8, 0.2], seed=42)\n",
        "\n",
        "# Step 2: Tokenize and Prepare Data\n",
        "tokenizer = Tokenizer(inputCol=\"reviewText\", outputCol=\"words\")\n",
        "train_tokens = tokenizer.transform(train_df)\n",
        "test_tokens = tokenizer.transform(test_df)\n",
        "\n",
        "# Step 3: Convert Text to Sequences\n",
        "sequence_length = 50\n",
        "\n",
        "hashingTF = HashingTF(inputCol=\"words\", outputCol=\"features\", numFeatures=sequence_length)\n",
        "train_seq = hashingTF.transform(train_tokens)\n",
        "test_seq = hashingTF.transform(test_tokens)\n",
        "\n",
        "\n",
        "\n",
        "\n",
        "\n",
        "train_seq = train_seq.withColumn(\"overall\", train_seq[\"overall\"].cast(IntegerType()))\n",
        "test_seq = test_seq.withColumn(\"overall\", test_seq[\"overall\"].cast(IntegerType()))\n",
        "train_seq = train_seq.filter(train_seq[\"overall\"].isin([1, 2, 3, 4, 5]))\n",
        "test_seq = test_seq.filter(test_seq[\"overall\"].isin([1, 2, 3, 4, 5]))\n",
        "\n",
        "\n",
        "\n",
        "\n",
        "\n",
        "train_seq = train_seq.na.drop()\n",
        "test_seq = test_seq.na.drop()\n",
        "\n",
        "\n",
        "# Step 4: Train the RNN Model\n",
        "layers = [sequence_length, 30, 20, 10]  # Adjust the layer sizes as needed\n",
        "\n",
        "# Create the RNN model\n",
        "rnn = MultilayerPerceptronClassifier(layers=layers, seed=42, labelCol=\"overall\")\n",
        "\n",
        "# Train the RNN model\n",
        "rnn_model = rnn.fit(train_seq)\n",
        "\n",
        "# Step 5: Evaluate the Model\n",
        "predictions = rnn_model.transform(test_seq)\n",
        "\n",
        "# Evaluate the model using MulticlassClassificationEvaluator\n",
        "evaluator = MulticlassClassificationEvaluator(predictionCol=\"prediction\", labelCol=\"overall\", metricName=\"accuracy\")\n",
        "accuracy = evaluator.evaluate(predictions)\n",
        "\n",
        "print(\"Accuracy:\", accuracy)\n"
      ],
      "metadata": {
        "application/vnd.databricks.v1+cell": {
          "showTitle": false,
          "cellMetadata": {
            "rowLimit": 10000,
            "byteLimit": 2048000
          },
          "nuid": "a407bce4-e670-4bbb-9dc8-b8047d79df72",
          "inputWidgets": {},
          "title": ""
        },
        "id": "6wRxDbwrUruR",
        "outputId": "bce0fe77-f01b-4ec1-def2-a160739d7a29"
      },
      "outputs": [
        {
          "output_type": "stream",
          "name": "stdout",
          "text": [
            "Accuracy: 0.7191860465116279\n"
          ]
        }
      ],
      "execution_count": null
    },
    {
      "cell_type": "code",
      "source": [
        "import numpy as np\n",
        "import matplotlib.pyplot as plt\n",
        "import seaborn as sns\n",
        "from sklearn.metrics import confusion_matrix\n",
        "from pyspark.ml.evaluation import MulticlassClassificationEvaluator\n",
        "\n",
        "# Convert predictions to numpy array\n",
        "predictions_np = np.array(predictions.select(\"overall\", \"prediction\").collect())\n",
        "\n",
        "# Extract actual labels and predicted labels\n",
        "y_true = predictions_np[:, 0].astype(int)\n",
        "y_pred = predictions_np[:, 1].astype(int)\n",
        "\n",
        "# Get the class labels\n",
        "class_labels = [1, 2, 3, 4, 5]\n",
        "\n",
        "# Compute confusion matrix\n",
        "cm = confusion_matrix(y_true, y_pred, labels=class_labels)\n",
        "\n",
        "# Plot confusion matrix\n",
        "plt.figure(figsize=(8, 6))\n",
        "sns.heatmap(cm, annot=True, fmt=\"d\", xticklabels=class_labels, yticklabels=class_labels, cmap=\"Blues\")\n",
        "plt.xlabel(\"Predicted Label\")\n",
        "plt.ylabel(\"True Label\")\n",
        "plt.title(\"Confusion Matrix\")\n",
        "plt.show()\n"
      ],
      "metadata": {
        "application/vnd.databricks.v1+cell": {
          "showTitle": false,
          "cellMetadata": {
            "rowLimit": 10000,
            "byteLimit": 2048000
          },
          "nuid": "c1d4384b-4a7b-477a-b7e4-dcecf7392e25",
          "inputWidgets": {},
          "title": ""
        },
        "id": "opP4_PkmUruS",
        "outputId": "6a98644e-7897-4119-ff9b-5b8ef509bed6"
      },
      "outputs": [
        {
          "output_type": "display_data",
          "metadata": {
            "application/vnd.databricks.v1+output": {
              "datasetInfos": [],
              "data": "data:image/png;base64,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\n",
              "removedWidgets": [],
              "addedWidgets": {},
              "metadata": {},
              "type": "image",
              "arguments": {}
            }
          },
          "data": {
            "image/png": "[encoded data removed]"
          }
        }
      ],
      "execution_count": null
    },
    {
      "cell_type": "code",
      "source": [
        "train_seq.printSchema()"
      ],
      "metadata": {
        "application/vnd.databricks.v1+cell": {
          "showTitle": false,
          "cellMetadata": {
            "rowLimit": 10000,
            "byteLimit": 2048000
          },
          "nuid": "fd4739cf-4173-44a9-9cba-ceaa48f38afe",
          "inputWidgets": {},
          "title": ""
        },
        "id": "OHmX2pNAUruS",
        "outputId": "2c605bdc-142a-4b07-af79-a8e58ffa08c2"
      },
      "outputs": [
        {
          "output_type": "stream",
          "name": "stdout",
          "text": [
            "root\n |-- overall: float (nullable = true)\n |-- reviewText: string (nullable = true)\n |-- summary: string (nullable = true)\n |-- words: array (nullable = true)\n |    |-- element: string (containsNull = true)\n |-- features: vector (nullable = true)\n\n"
          ]
        }
      ],
      "execution_count": null
    },
    {
      "cell_type": "code",
      "source": [],
      "metadata": {
        "application/vnd.databricks.v1+cell": {
          "showTitle": false,
          "cellMetadata": {},
          "nuid": "70e32b18-df57-40a2-a72b-3de631559f6f",
          "inputWidgets": {},
          "title": ""
        },
        "id": "FcPthv9UUruT"
      },
      "outputs": [],
      "execution_count": null
    }
  ],
  "metadata": {
    "application/vnd.databricks.v1+notebook": {
      "notebookName": "BDP-Srivatsa - DBFS Example",
      "dashboards": [],
      "notebookMetadata": {
        "pythonIndentUnit": 4,
        "mostRecentlyExecutedCommandWithImplicitDF": {
          "commandId": 2208744803481293,
          "dataframes": [
            "_sqldf"
          ]
        }
      },
      "language": "python",
      "widgets": {}
    },
    "colab": {
      "provenance": []
    }
  },
  "nbformat": 4,
  "nbformat_minor": 0
}