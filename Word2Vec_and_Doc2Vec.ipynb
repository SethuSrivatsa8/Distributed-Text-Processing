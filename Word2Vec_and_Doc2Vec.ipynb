{
  "cells": [
    {
      "cell_type": "code",
      "source": [
        "# File location and type\n",
        "file_location = \"/FileStore/tables/data_f.csv\"\n",
        "file_type = \"csv\"\n",
        "\n",
        "# CSV options\n",
        "infer_schema = \"true\"\n",
        "first_row_is_header = \"true\"\n",
        "delimiter = \",\"\n",
        "\n",
        "# The applied options are for CSV files. For other file types, these will be ignored.\n",
        "df = spark.read.format(file_type) \\\n",
        "  .option(\"inferSchema\", infer_schema) \\\n",
        "  .option(\"header\", first_row_is_header) \\\n",
        "  .option(\"sep\", delimiter) \\\n",
        "  .load(file_location)\n",
        "\n",
        "df.show(5)"
      ],
      "metadata": {
        "application/vnd.databricks.v1+cell": {
          "showTitle": false,
          "cellMetadata": {
            "rowLimit": 10000,
            "byteLimit": 2048000
          },
          "nuid": "6482be4c-f067-47c9-b0ac-35c938b94601",
          "inputWidgets": {},
          "title": ""
        },
        "id": "A_w09-GCLai_",
        "outputId": "124f50df-36de-48a1-9b33-cce1d6f03e1b"
      },
      "outputs": [
        {
          "output_type": "stream",
          "name": "stdout",
          "text": [
            "+--------------------+--------------------+--------------------+\n|             overall|          reviewText|             summary|\n+--------------------+--------------------+--------------------+\n|                   5|The stained glass...|           Nice book|\n|                   5|My 11 y.o. loved ...|                null|\n|Dragons and Wizar...| that make it \"\"s...| or anything else...|\n|Even the perfecti...| so it tends to b...|      Great pictures|\n|                   5|The pictures are ...|The pictures are ...|\n+--------------------+--------------------+--------------------+\nonly showing top 5 rows\n\n"
          ]
        }
      ],
      "execution_count": null
    },
    {
      "cell_type": "code",
      "source": [
        "from pyspark.sql.functions import col\n",
        "\n",
        "df = df.filter(~col(\"overall\").rlike('\\D'))\n",
        "df.show(5)"
      ],
      "metadata": {
        "application/vnd.databricks.v1+cell": {
          "showTitle": false,
          "cellMetadata": {
            "rowLimit": 10000,
            "byteLimit": 2048000
          },
          "nuid": "00419181-1e7c-4cc3-ae08-b71ad2ffe00e",
          "inputWidgets": {},
          "title": ""
        },
        "id": "2RAoI5VoLajA",
        "outputId": "d37adae1-e944-4490-f551-6906855f848b"
      },
      "outputs": [
        {
          "output_type": "stream",
          "name": "stdout",
          "text": [
            "+-------+--------------------+--------------------+\n|overall|          reviewText|             summary|\n+-------+--------------------+--------------------+\n|      5|The stained glass...|           Nice book|\n|      5|My 11 y.o. loved ...|                null|\n|      5|The pictures are ...|The pictures are ...|\n|      5|I absolutely love...|       So beautiful!|\n|      5|          I love it!|          Five Stars|\n+-------+--------------------+--------------------+\nonly showing top 5 rows\n\n"
          ]
        }
      ],
      "execution_count": null
    },
    {
      "cell_type": "code",
      "source": [
        "df.count()"
      ],
      "metadata": {
        "application/vnd.databricks.v1+cell": {
          "showTitle": false,
          "cellMetadata": {
            "rowLimit": 10000,
            "byteLimit": 2048000
          },
          "nuid": "dfeccce7-1ac4-4b70-bd04-7298766e5c99",
          "inputWidgets": {},
          "title": ""
        },
        "id": "jQatEIxWLajB",
        "outputId": "44899407-aa7a-447b-b945-29af156ab5f7"
      },
      "outputs": [
        {
          "output_type": "stream",
          "name": "stdout",
          "text": [
            "Out[116]: 1827525"
          ]
        }
      ],
      "execution_count": null
    },
    {
      "cell_type": "code",
      "source": [
        "# Load the data\n",
        "from pyspark.sql.functions import col\n",
        "\n",
        "data = df.select(col(\"reviewText\"), col(\"overall\"))"
      ],
      "metadata": {
        "application/vnd.databricks.v1+cell": {
          "showTitle": false,
          "cellMetadata": {
            "rowLimit": 10000,
            "byteLimit": 2048000
          },
          "nuid": "bf371c8e-4f49-496a-ab7a-f614ac8a9db6",
          "inputWidgets": {},
          "title": ""
        },
        "id": "ycNzmAF1LajC"
      },
      "outputs": [],
      "execution_count": null
    },
    {
      "cell_type": "code",
      "source": [
        "from pyspark.sql.functions import col, sum\n",
        "\n",
        "# Count the number of null values in each column\n",
        "null_counts = data.select([sum(col(c).isNull().cast(\"int\")).alias(c) for c in data.columns])\n",
        "\n",
        "# Display the result\n",
        "null_counts.show()\n"
      ],
      "metadata": {
        "application/vnd.databricks.v1+cell": {
          "showTitle": false,
          "cellMetadata": {
            "rowLimit": 10000,
            "byteLimit": 2048000
          },
          "nuid": "101432b9-a5d0-4680-894e-9d1a9cbcd389",
          "inputWidgets": {},
          "title": ""
        },
        "id": "m5pbJRmVLajC",
        "outputId": "456dbdce-2437-4a39-beb4-07a0a562686d"
      },
      "outputs": [
        {
          "output_type": "stream",
          "name": "stdout",
          "text": [
            "+----------+-------+\n|reviewText|overall|\n+----------+-------+\n|         9|      0|\n+----------+-------+\n\n"
          ]
        }
      ],
      "execution_count": null
    },
    {
      "cell_type": "code",
      "source": [
        "# drop any rows with null values\n",
        "data = data.na.drop()"
      ],
      "metadata": {
        "application/vnd.databricks.v1+cell": {
          "showTitle": false,
          "cellMetadata": {
            "rowLimit": 10000,
            "byteLimit": 2048000
          },
          "nuid": "0b5c68e1-28a2-4b24-bb7e-3a30b30f9bae",
          "inputWidgets": {},
          "title": ""
        },
        "id": "KUyfaTHSLajD"
      },
      "outputs": [],
      "execution_count": null
    },
    {
      "cell_type": "code",
      "source": [
        "from pyspark.sql.functions import col, sum\n",
        "\n",
        "# Count the number of null values in each column\n",
        "null_counts = data.select([sum(col(c).isNull().cast(\"int\")).alias(c) for c in data.columns])\n",
        "\n",
        "# Display the result\n",
        "null_counts.show()\n"
      ],
      "metadata": {
        "application/vnd.databricks.v1+cell": {
          "showTitle": false,
          "cellMetadata": {
            "rowLimit": 10000,
            "byteLimit": 2048000
          },
          "nuid": "e213a9b2-b14f-4c30-9f09-0018e44d6f57",
          "inputWidgets": {},
          "title": ""
        },
        "id": "_EgAjP4zLajE",
        "outputId": "7b2f47b4-a4bc-4b01-bbe7-2658c16e581c"
      },
      "outputs": [
        {
          "output_type": "stream",
          "name": "stdout",
          "text": [
            "+----------+-------+\n|reviewText|overall|\n+----------+-------+\n|         0|      0|\n+----------+-------+\n\n"
          ]
        }
      ],
      "execution_count": null
    },
    {
      "cell_type": "code",
      "source": [
        "data.count()"
      ],
      "metadata": {
        "application/vnd.databricks.v1+cell": {
          "showTitle": false,
          "cellMetadata": {
            "rowLimit": 10000,
            "byteLimit": 2048000
          },
          "nuid": "88d3ba6c-7179-4a0e-888f-812165f7165d",
          "inputWidgets": {},
          "title": ""
        },
        "id": "d4P1ivMrLajF",
        "outputId": "34efb72b-e243-4c25-81ef-0dc654c1c566"
      },
      "outputs": [
        {
          "output_type": "stream",
          "name": "stdout",
          "text": [
            "Out[121]: 1827516"
          ]
        }
      ],
      "execution_count": null
    },
    {
      "cell_type": "code",
      "source": [
        "df = df.limit(100000)\n",
        "df = df.sample(False, 0.1, seed=42).limit(100000)\n"
      ],
      "metadata": {
        "application/vnd.databricks.v1+cell": {
          "showTitle": false,
          "cellMetadata": {
            "rowLimit": 10000,
            "byteLimit": 2048000
          },
          "nuid": "3b759d4e-4d0f-4bc1-99c1-6f246a9bc486",
          "inputWidgets": {},
          "title": ""
        },
        "id": "UrjNWgmmLajF"
      },
      "outputs": [],
      "execution_count": null
    },
    {
      "cell_type": "code",
      "source": [
        "df.printSchema()\n",
        "df.show(5)"
      ],
      "metadata": {
        "application/vnd.databricks.v1+cell": {
          "showTitle": false,
          "cellMetadata": {
            "rowLimit": 10000,
            "byteLimit": 2048000
          },
          "nuid": "11321d55-e3bd-48db-983f-58fe700e4730",
          "inputWidgets": {},
          "title": ""
        },
        "id": "8CO_rSYFLajG",
        "outputId": "62615440-1858-4609-cb26-3a34ff43eda2"
      },
      "outputs": [
        {
          "output_type": "stream",
          "name": "stdout",
          "text": [
            "root\n |-- overall: string (nullable = true)\n |-- reviewText: string (nullable = true)\n |-- summary: string (nullable = true)\n\n+-------+--------------------+--------------------+\n|overall|          reviewText|             summary|\n+-------+--------------------+--------------------+\n|      4|                cool|          Four Stars|\n|      3|This is pretty mu...|This is pretty mu...|\n|      4|its a cute little...|                Tiny|\n|      5|Perfect for that ...|Entertains A 5 Ye...|\n|      5|Great product. To...|             Awesome|\n+-------+--------------------+--------------------+\nonly showing top 5 rows\n\n"
          ]
        }
      ],
      "execution_count": null
    },
    {
      "cell_type": "code",
      "source": [
        "from pyspark.sql.functions import col\n",
        "df = df.withColumn(\"overall\", col(\"overall\").cast(\"float\"))\n"
      ],
      "metadata": {
        "application/vnd.databricks.v1+cell": {
          "showTitle": false,
          "cellMetadata": {
            "rowLimit": 10000,
            "byteLimit": 2048000
          },
          "nuid": "e4d16d6b-511b-4797-a538-2d130cbb01dd",
          "inputWidgets": {},
          "title": ""
        },
        "id": "7j608h4YLajG"
      },
      "outputs": [],
      "execution_count": null
    },
    {
      "cell_type": "code",
      "source": [
        "df.printSchema()\n",
        "df.show(5)"
      ],
      "metadata": {
        "application/vnd.databricks.v1+cell": {
          "showTitle": false,
          "cellMetadata": {
            "rowLimit": 10000,
            "byteLimit": 2048000
          },
          "nuid": "3b463927-abd9-4d18-8385-7f9a8364110b",
          "inputWidgets": {},
          "title": ""
        },
        "id": "zS4ht5w2LajH",
        "outputId": "42a4efeb-390e-4965-96be-d31ddf441003"
      },
      "outputs": [
        {
          "output_type": "stream",
          "name": "stdout",
          "text": [
            "root\n |-- overall: float (nullable = true)\n |-- reviewText: string (nullable = true)\n |-- summary: string (nullable = true)\n\n+-------+--------------------+--------------------+\n|overall|          reviewText|             summary|\n+-------+--------------------+--------------------+\n|    4.0|                cool|          Four Stars|\n|    3.0|This is pretty mu...|This is pretty mu...|\n|    4.0|its a cute little...|                Tiny|\n|    5.0|Perfect for that ...|Entertains A 5 Ye...|\n|    5.0|Great product. To...|             Awesome|\n+-------+--------------------+--------------------+\nonly showing top 5 rows\n\n"
          ]
        }
      ],
      "execution_count": null
    },
    {
      "cell_type": "code",
      "source": [
        "import nltk\n",
        "nltk.download('stopwords')\n",
        "nltk.download('wordnet')"
      ],
      "metadata": {
        "application/vnd.databricks.v1+cell": {
          "showTitle": false,
          "cellMetadata": {
            "rowLimit": 10000,
            "byteLimit": 2048000
          },
          "nuid": "b94b0479-8fda-4080-8c23-ffbf59c80285",
          "inputWidgets": {},
          "title": ""
        },
        "id": "E8_BLXYVLajH",
        "outputId": "d0b567e1-163c-4dad-b046-393b31e6b9d0"
      },
      "outputs": [
        {
          "output_type": "stream",
          "name": "stderr",
          "text": [
            "[nltk_data] Downloading package stopwords to /root/nltk_data...\n[nltk_data]   Package stopwords is already up-to-date!\n[nltk_data] Downloading package wordnet to /root/nltk_data...\n"
          ]
        },
        {
          "output_type": "stream",
          "name": "stdout",
          "text": [
            "Out[45]: True"
          ]
        }
      ],
      "execution_count": null
    },
    {
      "cell_type": "code",
      "source": [
        "import re\n",
        "from pyspark.sql.functions import udf\n",
        "from pyspark.sql.types import ArrayType, StringType\n",
        "from nltk.corpus import stopwords\n",
        "from nltk.stem import WordNetLemmatizer\n",
        "# Define regex pattern to remove unwanted characters\n",
        "pattern = r\"[^a-zA-Z0-9]\"\n",
        "\n",
        "# Define stopword removal function\n",
        "def stopword_removal(text):\n",
        "    # Lowercase text\n",
        "    text = text.lower()\n",
        "    # Remove unwanted characters\n",
        "    text = re.sub(pattern, \" \", text)\n",
        "    # Tokenize text\n",
        "    tokens = text.split()\n",
        "    # Remove stopwords\n",
        "    stop_words = set(stopwords.words(\"english\"))\n",
        "    tokens = [w for w in tokens if not w in stop_words]\n",
        "    # Lemmatize words\n",
        "    lemmatizer = WordNetLemmatizer()\n",
        "    tokens = [lemmatizer.lemmatize(w) for w in tokens]\n",
        "    # Join tokens back into text\n",
        "    text = \" \".join(tokens)\n",
        "    return text\n",
        "\n",
        "# Register stopword_removal function as a UDF\n",
        "stopword_removal_udf = udf(stopword_removal, StringType())\n",
        "\n",
        "# Apply preprocessing steps to sparkDF\n",
        "preprocessedDF = df.select(\n",
        "    \"overall\",\n",
        "    stopword_removal_udf(\"reviewText\").alias(\"reviewText\"),\n",
        "    stopword_removal_udf(\"summary\").alias(\"summary\")\n",
        ")\n",
        "\n",
        "# Show first 5 rows of preprocessedDF\n",
        "preprocessedDF.show(5)\n"
      ],
      "metadata": {
        "application/vnd.databricks.v1+cell": {
          "showTitle": false,
          "cellMetadata": {
            "rowLimit": 10000,
            "byteLimit": 2048000
          },
          "nuid": "5f18077e-9fb6-4fa5-a51b-7e64b3a67290",
          "inputWidgets": {},
          "title": ""
        },
        "id": "TcaAAHfCLajH",
        "outputId": "9ee0b9d1-d7ac-4dd3-a961-a360d6b7f621"
      },
      "outputs": [
        {
          "output_type": "stream",
          "name": "stdout",
          "text": [
            "+-------+--------------------+--------------------+\n|overall|          reviewText|             summary|\n+-------+--------------------+--------------------+\n|    4.0|                cool|           four star|\n|    3.0|pretty much avera...|pretty much avera...|\n|    4.0|cute little book ...|                tiny|\n|    5.0|perfect long airp...|entertains 5 year...|\n|    5.0|great product too...|             awesome|\n+-------+--------------------+--------------------+\nonly showing top 5 rows\n\n"
          ]
        }
      ],
      "execution_count": null
    },
    {
      "cell_type": "code",
      "source": [
        "import re\n",
        "from pyspark.sql.functions import udf\n",
        "from pyspark.sql.types import ArrayType, StringType\n",
        "from nltk.corpus import stopwords\n",
        "from nltk.stem import WordNetLemmatizer\n",
        "# Define regex pattern to remove unwanted characters\n",
        "pattern = r\"[^a-zA-Z0-9]\"\n",
        "\n",
        "# Define stopword removal function\n",
        "def stopword_removal(text):\n",
        "    # Lowercase text\n",
        "    text = text.lower()\n",
        "    # Remove unwanted characters\n",
        "    text = re.sub(pattern, \" \", text)\n",
        "    # Tokenize text\n",
        "    tokens = text.split()\n",
        "    # Remove stopwords\n",
        "    stop_words = set(stopwords.words(\"english\"))\n",
        "    tokens = [w for w in tokens if not w in stop_words]\n",
        "    # Lemmatize words\n",
        "    lemmatizer = WordNetLemmatizer()\n",
        "    tokens = [lemmatizer.lemmatize(w) for w in tokens]\n",
        "    # Join tokens back into text\n",
        "    text = \" \".join(tokens)\n",
        "    return text\n",
        "\n",
        "# Register stopword_removal function as a UDF\n",
        "stopword_removal_udf = udf(stopword_removal, StringType())\n",
        "\n",
        "# Apply preprocessing steps to sparkDF\n",
        "preprocessedDF = df.select(\n",
        "    \"overall\",\n",
        "    stopword_removal_udf(\"reviewText\").alias(\"reviewText\"),\n",
        "    stopword_removal_udf(\"summary\").alias(\"summary\")\n",
        ")\n",
        "\n",
        "# Show first 5 rows of preprocessedDF\n",
        "preprocessedDF.show(5)\n"
      ],
      "metadata": {
        "application/vnd.databricks.v1+cell": {
          "showTitle": false,
          "cellMetadata": {
            "rowLimit": 10000,
            "byteLimit": 2048000
          },
          "nuid": "cce80735-084f-4071-afc7-3ee2dd20155f",
          "inputWidgets": {},
          "title": ""
        },
        "id": "cr4a4uFbLajI",
        "outputId": "69a9dbb8-7889-4c8d-84e1-6402c7245b89"
      },
      "outputs": [
        {
          "output_type": "stream",
          "name": "stdout",
          "text": [
            "+-------+--------------------+--------------------+\n|overall|          reviewText|             summary|\n+-------+--------------------+--------------------+\n|    4.0|                cool|           four star|\n|    3.0|pretty much avera...|pretty much avera...|\n|    4.0|cute little book ...|                tiny|\n|    5.0|perfect long airp...|entertains 5 year...|\n|    5.0|great product too...|             awesome|\n+-------+--------------------+--------------------+\nonly showing top 5 rows\n\n"
          ]
        }
      ],
      "execution_count": null
    },
    {
      "cell_type": "code",
      "source": [
        "# Import necessary libraries\n",
        "from pyspark.sql.functions import avg\n",
        "from pyspark.sql.functions import explode\n",
        "from pyspark.sql.functions import lower\n",
        "\n",
        "# Show the schema of the DataFrame\n",
        "preprocessedDF.printSchema()\n",
        "\n",
        "# Count the number of rows in the DataFrame\n",
        "print(\"Total number of rows: \", preprocessedDF.count())\n",
        "\n",
        "# Calculate the average rating\n",
        "avg_rating = preprocessedDF.select(avg(\"overall\")).first()[0]\n",
        "print(\"Average rating: \", avg_rating)\n",
        "\n",
        "# Count the number of reviews for each rating\n",
        "rating_count = preprocessedDF.groupBy(\"overall\").count().orderBy(\"overall\")\n",
        "rating_count.show()\n",
        "\n",
        "# Show the top 10 most frequent words in the reviewText column\n",
        "#words = preprocessedDF.select(explode(split(lower(\"reviewText\"), \"\\W+\")).alias(\"word\"))\n",
        "#top_words = words.filter(length(\"word\") > 2).groupBy(\"word\").count().orderBy(desc(\"count\")).limit(10)\n",
        "#top_words.show()\n",
        "\n",
        "from pyspark.sql.functions import length, desc, lower, explode, split\n",
        "\n",
        "# Create a column with all words in reviewText\n",
        "words = preprocessedDF.select(explode(split(lower(preprocessedDF.reviewText), \"\\W+\")).alias(\"word\"))\n",
        "\n",
        "# Filter words that have less than 3 characters\n",
        "words_filtered = words.filter(length(\"word\") > 2)\n",
        "\n",
        "# Get the top 10 most frequent words\n",
        "top_words = words_filtered.groupBy(\"word\").count().orderBy(desc(\"count\")).limit(10)\n",
        "\n",
        "# Show the results\n",
        "top_words.show()\n",
        "\n",
        "\n",
        "\n",
        "\n",
        "\n",
        "\n",
        "\n",
        "\n"
      ],
      "metadata": {
        "application/vnd.databricks.v1+cell": {
          "showTitle": false,
          "cellMetadata": {
            "rowLimit": 10000,
            "byteLimit": 2048000
          },
          "nuid": "9bb467a3-7da9-47cf-ac39-e4e1df7382a9",
          "inputWidgets": {},
          "title": ""
        },
        "id": "TuRWg-gCLajI",
        "outputId": "878e8229-5f9d-45c6-a2c6-b885d98b6c38"
      },
      "outputs": [
        {
          "output_type": "stream",
          "name": "stdout",
          "text": [
            "root\n |-- overall: double (nullable = true)\n |-- reviewText: array (nullable = true)\n |    |-- element: string (containsNull = false)\n |-- summary: array (nullable = true)\n |    |-- element: string (containsNull = false)\n |-- sentiment: string (nullable = false)\n\nTotal number of rows:  9944\nAverage rating:  4.473049074818986\n+-------+-----+\n|overall|count|\n+-------+-----+\n|    1.0|  336|\n|    2.0|  303|\n|    3.0|  739|\n|    4.0| 1511|\n|    5.0| 7054|\n|    7.0|    1|\n+-------+-----+\n\nUnexpected exception formatting exception. Falling back to standard exception\n"
          ]
        },
        {
          "output_type": "stream",
          "name": "stderr",
          "text": [
            "Traceback (most recent call last):\n  File \"/databricks/python/lib/python3.9/site-packages/IPython/core/interactiveshell.py\", line 3378, in run_code\n    exec(code_obj, self.user_global_ns, self.user_ns)\n  File \"<command-681034656033422>\", line 28, in <module>\n    words = preprocessedDF.select(explode(split(lower(preprocessedDF.reviewText), \"\\W+\")).alias(\"word\"))\n  File \"/databricks/spark/python/pyspark/instrumentation_utils.py\", line 48, in wrapper\n    res = func(*args, **kwargs)\n  File \"/databricks/spark/python/pyspark/sql/dataframe.py\", line 3023, in select\n    jdf = self._jdf.select(self._jcols(*cols))\n  File \"/databricks/spark/python/lib/py4j-0.10.9.5-src.zip/py4j/java_gateway.py\", line 1321, in __call__\n    return_value = get_return_value(\n  File \"/databricks/spark/python/pyspark/errors/exceptions.py\", line 234, in deco\n    raise converted from None\npyspark.errors.exceptions.AnalysisException: [DATATYPE_MISMATCH.UNEXPECTED_INPUT_TYPE] Cannot resolve \"lower(reviewText)\" due to data type mismatch: parameter 1 requires \"STRING\" type, however, \"reviewText\" is of \"ARRAY<STRING>\" type.;\n'Project [explode(split(lower(reviewText#10125), \\W+, -1)) AS word#10331]\n+- Project [overall#8505, reviewText#10125, split(summary#10098,  , -1) AS summary#10130, sentiment#10120]\n   +- Project [overall#8505, split(reviewText#10096,  , -1) AS reviewText#10125, summary#10098, sentiment#10120]\n      +- Project [overall#8505, reviewText#10096, summary#10098, CASE WHEN (overall#8505 >= cast(4 as double)) THEN positive WHEN (overall#8505 = cast(3 as double)) THEN neutral ELSE negative END AS sentiment#10120]\n         +- Project [overall#8505, stopword_removal(reviewText#7061)#10095 AS reviewText#10096, stopword_removal(summary#7062)#10097 AS summary#10098]\n            +- Project [cast(overall#7181 as double) AS overall#8505, reviewText#7061, summary#7062]\n               +- Project [cast(overall#7060 as float) AS overall#7181, reviewText#7061, summary#7062]\n                  +- GlobalLimit 100000\n                     +- LocalLimit 100000\n                        +- Sample 0.0, 0.1, false, 42\n                           +- GlobalLimit 100000\n                              +- LocalLimit 100000\n                                 +- Filter NOT RLIKE(overall#7060, \\D)\n                                    +- Relation [overall#7060,reviewText#7061,summary#7062] csv\n\n\nDuring handling of the above exception, another exception occurred:\n\nTraceback (most recent call last):\n  File \"/databricks/python/lib/python3.9/site-packages/IPython/core/interactiveshell.py\", line 1997, in showtraceback\n    stb = self.InteractiveTB.structured_traceback(\n  File \"/databricks/python/lib/python3.9/site-packages/IPython/core/ultratb.py\", line 1112, in structured_traceback\n    return FormattedTB.structured_traceback(\n  File \"/databricks/python/lib/python3.9/site-packages/IPython/core/ultratb.py\", line 1006, in structured_traceback\n    return VerboseTB.structured_traceback(\n  File \"/databricks/python/lib/python3.9/site-packages/IPython/core/ultratb.py\", line 859, in structured_traceback\n    formatted_exception = self.format_exception_as_a_whole(etype, evalue, etb, number_of_lines_of_context,\n  File \"/databricks/python/lib/python3.9/site-packages/IPython/core/ultratb.py\", line 812, in format_exception_as_a_whole\n    frames.append(self.format_record(r))\n  File \"/databricks/python/lib/python3.9/site-packages/IPython/core/ultratb.py\", line 730, in format_record\n    result += ''.join(_format_traceback_lines(frame_info.lines, Colors, self.has_colors, lvals))\n  File \"/databricks/python/lib/python3.9/site-packages/stack_data/utils.py\", line 145, in cached_property_wrapper\n    value = obj.__dict__[self.func.__name__] = self.func(obj)\n  File \"/databricks/python/lib/python3.9/site-packages/stack_data/core.py\", line 698, in lines\n    pieces = self.included_pieces\n  File \"/databricks/python/lib/python3.9/site-packages/stack_data/utils.py\", line 145, in cached_property_wrapper\n    value = obj.__dict__[self.func.__name__] = self.func(obj)\n  File \"/databricks/python/lib/python3.9/site-packages/stack_data/core.py\", line 649, in included_pieces\n    pos = scope_pieces.index(self.executing_piece)\n  File \"/databricks/python/lib/python3.9/site-packages/stack_data/utils.py\", line 145, in cached_property_wrapper\n    value = obj.__dict__[self.func.__name__] = self.func(obj)\n  File \"/databricks/python/lib/python3.9/site-packages/stack_data/core.py\", line 628, in executing_piece\n    return only(\n  File \"/databricks/python/lib/python3.9/site-packages/executing/executing.py\", line 164, in only\n    raise NotOneValueFound('Expected one value, found 0')\nexecuting.executing.NotOneValueFound: Expected one value, found 0\n"
          ]
        },
        {
          "output_type": "display_data",
          "metadata": {
            "application/vnd.databricks.v1+output": {
              "data": "",
              "errorSummary": "<span class='ansi-red-fg'>AnalysisException</span>: [DATATYPE_MISMATCH.UNEXPECTED_INPUT_TYPE] Cannot resolve \"lower(reviewText)\" due to data type mismatch: parameter 1 requires \"STRING\" type, however, \"reviewText\" is of \"ARRAY<STRING>\" type.;\n'Project [explode(split(lower(reviewText#10125), \\W+, -1)) AS word#10331]\n+- Project [overall#8505, reviewText#10125, split(summary#10098,  , -1) AS summary#10130, sentiment#10120]\n   +- Project [overall#8505, split(reviewText#10096,  , -1) AS reviewText#10125, summary#10098, sentiment#10120]\n      +- Project [overall#8505, reviewText#10096, summary#10098, CASE WHEN (overall#8505 >= cast(4 as double)) THEN positive WHEN (overall#8505 = cast(3 as double)) THEN neutral ELSE negative END AS sentiment#10120]\n         +- Project [overall#8505, stopword_removal(reviewText#7061)#10095 AS reviewText#10096, stopword_removal(summary#7062)#10097 AS summary#10098]\n            +- Project [cast(overall#7181 as double) AS overall#8505, reviewText#7061, summary#7062]\n               +- Project [cast(overall#7060 as float) AS overall#7181, reviewText#7061, summary#7062]\n                  +- GlobalLimit 100000\n                     +- LocalLimit 100000\n                        +- Sample 0.0, 0.1, false, 42\n                           +- GlobalLimit 100000\n                              +- LocalLimit 100000\n                                 +- Filter NOT RLIKE(overall#7060, \\D)\n                                    +- Relation [overall#7060,reviewText#7061,summary#7062] csv\n",
              "metadata": {},
              "errorTraceType": "ansi",
              "type": "ipynbError",
              "arguments": {}
            }
          },
          "data": {
            "text/plain": [
              ""
            ]
          }
        }
      ],
      "execution_count": null
    },
    {
      "cell_type": "code",
      "source": [
        "%Word2Vec"
      ],
      "metadata": {
        "application/vnd.databricks.v1+cell": {
          "showTitle": false,
          "cellMetadata": {},
          "nuid": "ba62112e-2c06-48fc-831c-94d640cc58c4",
          "inputWidgets": {},
          "title": ""
        },
        "id": "jgztV7q_LajJ"
      },
      "outputs": [],
      "execution_count": null
    },
    {
      "cell_type": "code",
      "source": [
        "from pyspark.ml.feature import Word2Vec, RegexTokenizer\n",
        "\n",
        "# Define a regular expression tokenizer to split the text into words\n",
        "tokenizer = RegexTokenizer(inputCol=\"reviewText\", outputCol=\"words\", pattern=\"\\\\W\")\n",
        "\n",
        "# Apply the tokenizer to the data\n",
        "words_df = tokenizer.transform(df)\n",
        "\n",
        "# Learn a Word2Vec model on the text data\n",
        "word2vec = Word2Vec(vectorSize=100, minCount=5, inputCol=\"words\", outputCol=\"features\")\n",
        "word2vec_model = word2vec.fit(words_df)\n",
        "\n",
        "# Transform the data using the Word2Vec model\n",
        "word2vec_df = word2vec_model.transform(words_df)\n",
        "\n",
        "# Split the data into training and test sets\n",
        "(training_data, test_data) = word2vec_df.randomSplit([0.7, 0.3])\n",
        "\n",
        "# Train a Logistic Regression model on the data\n",
        "from pyspark.ml.classification import LogisticRegression\n",
        "\n",
        "lr = LogisticRegression(labelCol=\"overall\", maxIter=10, regParam=0.01, elasticNetParam=0)\n",
        "lr_model = lr.fit(training_data)\n",
        "\n",
        "# Make predictions on the test data\n",
        "predictions = lr_model.transform(test_data)\n",
        "\n",
        "# Evaluate the model using accuracy metric\n",
        "from pyspark.ml.evaluation import MulticlassClassificationEvaluator\n",
        "\n",
        "evaluator = MulticlassClassificationEvaluator(labelCol=\"overall\", metricName=\"accuracy\")\n",
        "accuracy = evaluator.evaluate(predictions)\n",
        "print(\"Accuracy:\", accuracy)\n"
      ],
      "metadata": {
        "application/vnd.databricks.v1+cell": {
          "showTitle": false,
          "cellMetadata": {
            "rowLimit": 10000,
            "byteLimit": 2048000
          },
          "nuid": "28250614-0930-4ccb-be5e-1782f44057e9",
          "inputWidgets": {},
          "title": ""
        },
        "id": "74R7bFEuLajJ",
        "outputId": "46d8e90f-0b18-4d9b-e382-5a06bde1f468"
      },
      "outputs": [
        {
          "output_type": "stream",
          "name": "stdout",
          "text": [
            "Accuracy: 0.7034207904350714\n"
          ]
        }
      ],
      "execution_count": null
    },
    {
      "cell_type": "code",
      "source": [
        "from pyspark.sql.functions import col\n",
        "\n",
        "# Calculate precision and recall\n",
        "tp = predictions.filter((col(\"prediction\") == col(\"overall\")) & (col(\"prediction\") == 1)).count()\n",
        "tn = predictions.filter((col(\"prediction\") == col(\"overall\")) & (col(\"prediction\") == 0)).count()\n",
        "fp = predictions.filter((col(\"prediction\") != col(\"overall\")) & (col(\"prediction\") == 1)).count()\n",
        "fn = predictions.filter((col(\"prediction\") != col(\"overall\")) & (col(\"prediction\") == 0)).count()\n",
        "\n",
        "precision = tp / (tp + fp)\n",
        "recall = tp / (tp + fn)\n",
        "\n",
        "# Display precision and recall\n",
        "print(\"Precision: \", precision)\n",
        "print(\"Recall: \", recall)\n",
        "\n",
        "# Create confusion matrix\n",
        "confusion_matrix = predictions.groupBy(\"prediction\", \"overall\").count().orderBy(\"prediction\", \"overall\")\n",
        "confusion_matrix.show()"
      ],
      "metadata": {
        "application/vnd.databricks.v1+cell": {
          "showTitle": false,
          "cellMetadata": {
            "rowLimit": 10000,
            "byteLimit": 2048000
          },
          "nuid": "5aacb961-8f80-4774-b63d-f5800daebe96",
          "inputWidgets": {},
          "title": ""
        },
        "id": "x-eFx3OpLajJ",
        "outputId": "c79730d5-cbf9-41a7-aee3-0ee1215dc070"
      },
      "outputs": [
        {
          "output_type": "stream",
          "name": "stdout",
          "text": [
            "Precision:  0.375\nRecall:  1.0\n+----------+-------+-----+\n|prediction|overall|count|\n+----------+-------+-----+\n|       1.0|    1.0|    3|\n|       1.0|    2.0|    1|\n|       1.0|    4.0|    1|\n|       1.0|    5.0|    3|\n|       3.0|    1.0|    5|\n|       3.0|    2.0|   18|\n|       3.0|    3.0|   14|\n|       3.0|    4.0|    5|\n|       3.0|    5.0|   11|\n|       4.0|    2.0|    1|\n|       4.0|    3.0|    8|\n|       4.0|    4.0|    5|\n|       4.0|    5.0|    5|\n|       5.0|    1.0|   87|\n|       5.0|    2.0|  100|\n|       5.0|    3.0|  209|\n|       5.0|    4.0|  439|\n|       5.0|    5.0| 2096|\n+----------+-------+-----+\n\n"
          ]
        }
      ],
      "execution_count": null
    },
    {
      "cell_type": "code",
      "source": [
        "from pyspark.mllib.evaluation import MulticlassMetrics\n",
        "\n",
        "# Select prediction and label columns from predictions dataframe\n",
        "predictionAndLabels = predictions.select(\"prediction\", \"overall\").rdd\n",
        "\n",
        "# Instantiate MulticlassMetrics object with prediction and label RDDs\n",
        "metrics = MulticlassMetrics(predictionAndLabels)\n",
        "\n",
        "# Calculate precision for each label\n",
        "labels = [1.0, 2.0, 3.0, 4.0, 5.0] # your 5 labels\n",
        "precisions = {}\n",
        "for label in labels:\n",
        "    precisions[label] = metrics.precision(label)\n",
        "\n",
        "# Print precision for each label\n",
        "for label in labels:\n",
        "    print(f\"Precision for label {label}: {precisions[label]}\")\n",
        "\n",
        "# Calculate confusion matrix\n",
        "confusion_matrix = metrics.confusionMatrix().toArray()\n",
        "\n",
        "# Print confusion matrix\n",
        "print(\"Confusion Matrix:\")\n",
        "for i in range(len(confusion_matrix)):\n",
        "    row = \"\"\n",
        "    for j in range(len(confusion_matrix)):\n",
        "        row += str(confusion_matrix[i][j]) + \"\\t\"\n",
        "    print(row)"
      ],
      "metadata": {
        "application/vnd.databricks.v1+cell": {
          "showTitle": false,
          "cellMetadata": {
            "rowLimit": 10000,
            "byteLimit": 2048000
          },
          "nuid": "93f3a579-b381-40df-ab6f-4477909b6af8",
          "inputWidgets": {},
          "title": ""
        },
        "id": "J2KPxglaLajK",
        "outputId": "aaa0da8f-9fa6-4b7e-a54e-973da3c5eabe"
      },
      "outputs": [
        {
          "output_type": "stream",
          "name": "stderr",
          "text": [
            "/databricks/spark/python/pyspark/sql/context.py:165: FutureWarning: Deprecated in 3.0.0. Use SparkSession.builder.getOrCreate() instead.\n  warnings.warn(\n"
          ]
        },
        {
          "output_type": "stream",
          "name": "stdout",
          "text": [
            "Precision for label 1.0: 0.375\nPrecision for label 2.0: 0.0\nPrecision for label 3.0: 0.2641509433962264\nPrecision for label 4.0: 0.2631578947368421\nPrecision for label 5.0: 0.7151142954622995\nConfusion Matrix:\n3.0\t0.0\t5.0\t0.0\t87.0\t\n1.0\t0.0\t18.0\t1.0\t100.0\t\n0.0\t0.0\t14.0\t8.0\t209.0\t\n1.0\t0.0\t5.0\t5.0\t439.0\t\n3.0\t0.0\t11.0\t5.0\t2096.0\t\n"
          ]
        }
      ],
      "execution_count": null
    },
    {
      "cell_type": "code",
      "source": [
        "%pip install gensim\n"
      ],
      "metadata": {
        "application/vnd.databricks.v1+cell": {
          "showTitle": false,
          "cellMetadata": {
            "rowLimit": 10000,
            "byteLimit": 2048000
          },
          "nuid": "2f322a16-b700-41d6-8cc7-6516ae238613",
          "inputWidgets": {},
          "title": ""
        },
        "id": "Hb5bI42CLajK",
        "outputId": "a197f223-3b40-4b51-e0b2-737549452e1a"
      },
      "outputs": [
        {
          "output_type": "stream",
          "name": "stdout",
          "text": [
            "Python interpreter will be restarted.\nCollecting gensim\n  Downloading gensim-4.3.1-cp39-cp39-manylinux_2_17_x86_64.manylinux2014_x86_64.whl (26.5 MB)\nRequirement already satisfied: scipy>=1.7.0 in /databricks/python3/lib/python3.9/site-packages (from gensim) (1.7.3)\nCollecting smart-open>=1.8.1\n  Downloading smart_open-6.3.0-py3-none-any.whl (56 kB)\nRequirement already satisfied: numpy>=1.18.5 in /databricks/python3/lib/python3.9/site-packages (from gensim) (1.21.5)\nInstalling collected packages: smart-open, gensim\nSuccessfully installed gensim-4.3.1 smart-open-6.3.0\nPython interpreter will be restarted.\n"
          ]
        }
      ],
      "execution_count": null
    },
    {
      "cell_type": "code",
      "source": [
        "!pip install --upgrade numpy"
      ],
      "metadata": {
        "application/vnd.databricks.v1+cell": {
          "showTitle": false,
          "cellMetadata": {
            "rowLimit": 10000,
            "byteLimit": 2048000
          },
          "nuid": "72c4cdd7-66b5-4d48-8c88-ad83b4e58218",
          "inputWidgets": {},
          "title": ""
        },
        "id": "FDO0idsrLajK",
        "outputId": "72ff9098-48ca-43e7-a6e4-863e75447d41"
      },
      "outputs": [
        {
          "output_type": "stream",
          "name": "stdout",
          "text": [
            "Requirement already satisfied: numpy in /databricks/python3/lib/python3.9/site-packages (1.21.5)\r\nCollecting numpy\r\n  Downloading numpy-1.24.3-cp39-cp39-manylinux_2_17_x86_64.manylinux2014_x86_64.whl (17.3 MB)\r\n\u001b[?25l\r\u001b[K     |                                | 10 kB 15.9 MB/s eta 0:00:02\r\u001b[K     |                                | 20 kB 5.9 MB/s eta 0:00:03\r\u001b[K     |                                | 30 kB 8.5 MB/s eta 0:00:03\r\u001b[K     |                                | 40 kB 4.6 MB/s eta 0:00:04\r\u001b[K     |                                | 51 kB 5.2 MB/s eta 0:00:04\r\u001b[K     |▏                               | 61 kB 6.1 MB/s eta 0:00:03\r\u001b[K     |▏                               | 71 kB 6.4 MB/s eta 0:00:03\r\u001b[K     |▏                               | 81 kB 7.2 MB/s eta 0:00:03\r\u001b[K     |▏                               | 92 kB 6.4 MB/s eta 0:00:03\r\u001b[K     |▏                               | 102 kB 5.8 MB/s eta 0:00:03\r\u001b[K     |▏                               | 112 kB 5.8 MB/s eta 0:00:03\r\u001b[K     |▎                               | 122 kB 5.8 MB/s eta 0:00:03\r\u001b[K     |▎                               | 133 kB 5.8 MB/s eta 0:00:03\r\u001b[K     |▎                               | 143 kB 5.8 MB/s eta 0:00:03\r\u001b[K     |▎                               | 153 kB 5.8 MB/s eta 0:00:03\r\u001b[K     |▎                               | 163 kB 5.8 MB/s eta 0:00:03\r\u001b[K     |▎                               | 174 kB 5.8 MB/s eta 0:00:03\r\u001b[K     |▍                               | 184 kB 5.8 MB/s eta 0:00:03\r\u001b[K     |▍                               | 194 kB 5.8 MB/s eta 0:00:03\r\u001b[K     |▍                               | 204 kB 5.8 MB/s eta 0:00:03\r\u001b[K     |▍                               | 215 kB 5.8 MB/s eta 0:00:03\r\u001b[K     |▍                               | 225 kB 5.8 MB/s eta 0:00:03\r\u001b[K     |▍                               | 235 kB 5.8 MB/s eta 0:00:03\r\u001b[K     |▌                               | 245 kB 5.8 MB/s eta 0:00:03\r\u001b[K     |▌                               | 256 kB 5.8 MB/s eta 0:00:03\r\u001b[K     |▌                               | 266 kB 5.8 MB/s eta 0:00:03\r\u001b[K     |▌                               | 276 kB 5.8 MB/s eta 0:00:03\r\u001b[K     |▌                               | 286 kB 5.8 MB/s eta 0:00:03\r\u001b[K     |▌                               | 296 kB 5.8 MB/s eta 0:00:03\r\u001b[K     |▋                               | 307 kB 5.8 MB/s eta 0:00:03\r\u001b[K     |▋                               | 317 kB 5.8 MB/s eta 0:00:03\r\u001b[K     |▋                               | 327 kB 5.8 MB/s eta 0:00:03\r\u001b[K     |▋                               | 337 kB 5.8 MB/s eta 0:00:03\r\u001b[K     |▋                               | 348 kB 5.8 MB/s eta 0:00:03\r\u001b[K     |▋                               | 358 kB 5.8 MB/s eta 0:00:03\r\u001b[K     |▊                               | 368 kB 5.8 MB/s eta 0:00:03\r\u001b[K     |▊                               | 378 kB 5.8 MB/s eta 0:00:03\r\u001b[K     |▊                               | 389 kB 5.8 MB/s eta 0:00:03\r\u001b[K     |▊                               | 399 kB 5.8 MB/s eta 0:00:03\r\u001b[K     |▊                               | 409 kB 5.8 MB/s eta 0:00:03\r\u001b[K     |▊                               | 419 kB 5.8 MB/s eta 0:00:03\r\u001b[K     |▉                               | 430 kB 5.8 MB/s eta 0:00:03\r\u001b[K     |▉                               | 440 kB 5.8 MB/s eta 0:00:03\r\u001b[K     |▉                               | 450 kB 5.8 MB/s eta 0:00:03\r\u001b[K     |▉                               | 460 kB 5.8 MB/s eta 0:00:03\r\u001b[K     |▉                               | 471 kB 5.8 MB/s eta 0:00:03\r\u001b[K     |█                               | 481 kB 5.8 MB/s eta 0:00:03\r\u001b[K     |█                               | 491 kB 5.8 MB/s eta 0:00:03\r\u001b[K     |█                               | 501 kB 5.8 MB/s eta 0:00:03\r\u001b[K     |█                               | 512 kB 5.8 MB/s eta 0:00:03\r\u001b[K     |█                               | 522 kB 5.8 MB/s eta 0:00:03\r\u001b[K     |█                               | 532 kB 5.8 MB/s eta 0:00:03\r\u001b[K     |█                               | 542 kB 5.8 MB/s eta 0:00:03\r\u001b[K     |█                               | 552 kB 5.8 MB/s eta 0:00:03\r\u001b[K     |█                               | 563 kB 5.8 MB/s eta 0:00:03\r\u001b[K     |█                               | 573 kB 5.8 MB/s eta 0:00:03\r\u001b[K     |█                               | 583 kB 5.8 MB/s eta 0:00:03\r\u001b[K     |█                               | 593 kB 5.8 MB/s eta 0:00:03\r\u001b[K     |█▏                              | 604 kB 5.8 MB/s eta 0:00:03\r\u001b[K     |█▏                              | 614 kB 5.8 MB/s eta 0:00:03\r\u001b[K     |█▏                              | 624 kB 5.8 MB/s eta 0:00:03\r\u001b[K     |█▏                              | 634 kB 5.8 MB/s eta 0:00:03\r\u001b[K     |█▏                              | 645 kB 5.8 MB/s eta 0:00:03\r\u001b[K     |█▏                              | 655 kB 5.8 MB/s eta 0:00:03\r\u001b[K     |█▎                              | 665 kB 5.8 MB/s eta 0:00:03\r\u001b[K     |█▎                              | 675 kB 5.8 MB/s eta 0:00:03\r\u001b[K     |█▎                              | 686 kB 5.8 MB/s eta 0:00:03\r\u001b[K     |█▎                              | 696 kB 5.8 MB/s eta 0:00:03\r\u001b[K     |█▎                              | 706 kB 5.8 MB/s eta 0:00:03\r\u001b[K     |█▎                              | 716 kB 5.8 MB/s eta 0:00:03\r\u001b[K     |█▍                              | 727 kB 5.8 MB/s eta 0:00:03\r\u001b[K     |█▍                              | 737 kB 5.8 MB/s eta 0:00:03\r\u001b[K     |█▍                              | 747 kB 5.8 MB/s eta 0:00:03\r\u001b[K     |█▍                              | 757 kB 5.8 MB/s eta 0:00:03\r\u001b[K     |█▍                              | 768 kB 5.8 MB/s eta 0:00:03\r\u001b[K     |█▍                              | 778 kB 5.8 MB/s eta 0:00:03\r\u001b[K     |█▌                              | 788 kB 5.8 MB/s eta 0:00:03\r\u001b[K     |█▌                              | 798 kB 5.8 MB/s eta 0:00:03\r\u001b[K     |█▌                              | 808 kB 5.8 MB/s eta 0:00:03\r\u001b[K     |█▌                              | 819 kB 5.8 MB/s eta 0:00:03\r\u001b[K     |█▌                              | 829 kB 5.8 MB/s eta 0:00:03\r\u001b[K     |█▌                              | 839 kB 5.8 MB/s eta 0:00:03\r\u001b[K     |█▋                              | 849 kB 5.8 MB/s eta 0:00:03\r\u001b[K     |█▋                              | 860 kB 5.8 MB/s eta 0:00:03\r\u001b[K     |█▋                              | 870 kB 5.8 MB/s eta 0:00:03\r\u001b[K     |█▋                              | 880 kB 5.8 MB/s eta 0:00:03\r\u001b[K     |█▋                              | 890 kB 5.8 MB/s eta 0:00:03\r\u001b[K     |█▋                              | 901 kB 5.8 MB/s eta 0:00:03\r\u001b[K     |█▊                              | 911 kB 5.8 MB/s eta 0:00:03\r\u001b[K     |█▊                              | 921 kB 5.8 MB/s eta 0:00:03\r\u001b[K     |█▊                              | 931 kB 5.8 MB/s eta 0:00:03\r\u001b[K     |█▊                              | 942 kB 5.8 MB/s eta 0:00:03\r\u001b[K     |█▊                              | 952 kB 5.8 MB/s eta 0:00:03\r\u001b[K     |█▉                              | 962 kB 5.8 MB/s eta 0:00:03\r\u001b[K     |█▉                              | 972 kB 5.8 MB/s eta 0:00:03\r\u001b[K     |█▉                              | 983 kB 5.8 MB/s eta 0:00:03\r\u001b[K     |█▉                              | 993 kB 5.8 MB/s eta 0:00:03\r\u001b[K     |█▉                              | 1.0 MB 5.8 MB/s eta 0:00:03\r\u001b[K     |█▉                              | 1.0 MB 5.8 MB/s eta 0:00:03\r\u001b[K     |██                              | 1.0 MB 5.8 MB/s eta 0:00:03\r\u001b[K     |██                              | 1.0 MB 5.8 MB/s eta 0:00:03\r\u001b[K     |██                              | 1.0 MB 5.8 MB/s eta 0:00:03\r\u001b[K     |██                              | 1.1 MB 5.8 MB/s eta 0:00:03\r\u001b[K     |██                              | 1.1 MB 5.8 MB/s eta 0:00:03\r\u001b[K     |██                              | 1.1 MB 5.8 MB/s eta 0:00:03\r\u001b[K     |██                              | 1.1 MB 5.8 MB/s eta 0:00:03\r\u001b[K     |██                              | 1.1 MB 5.8 MB/s eta 0:00:03\r\u001b[K     |██                              | 1.1 MB 5.8 MB/s eta 0:00:03\r\u001b[K     |██                              | 1.1 MB 5.8 MB/s eta 0:00:03\r\u001b[K     |██                              | 1.1 MB 5.8 MB/s eta 0:00:03\r\u001b[K     |██                              | 1.1 MB 5.8 MB/s eta 0:00:03\r\u001b[K     |██▏                             | 1.1 MB 5.8 MB/s eta 0:00:03\r\u001b[K     |██▏                             | 1.2 MB 5.8 MB/s eta 0:00:03\r\u001b[K     |██▏                             | 1.2 MB 5.8 MB/s eta 0:00:03\r\u001b[K     |██▏                             | 1.2 MB 5.8 MB/s eta 0:00:03\r\u001b[K     |██▏                             | 1.2 MB 5.8 MB/s eta 0:00:03\r\u001b[K     |██▏                             | 1.2 MB 5.8 MB/s eta 0:00:03\r\u001b[K     |██▎                             | 1.2 MB 5.8 MB/s eta 0:00:03\r\u001b[K     |██▎                             | 1.2 MB 5.8 MB/s eta 0:00:03\r\u001b[K     |██▎                             | 1.2 MB 5.8 MB/s eta 0:00:03\r\u001b[K     |██▎                             | 1.2 MB 5.8 MB/s eta 0:00:03\r\u001b[K     |██▎                             | 1.2 MB 5.8 MB/s eta 0:00:03\r\u001b[K     |██▎                             | 1.3 MB 5.8 MB/s eta 0:00:03\r\u001b[K     |██▍                             | 1.3 MB 5.8 MB/s eta 0:00:03\r\u001b[K     |██▍                             | 1.3 MB 5.8 MB/s eta 0:00:03\r\u001b[K     |██▍                             | 1.3 MB 5.8 MB/s eta 0:00:03\r\u001b[K     |██▍                             | 1.3 MB 5.8 MB/s eta 0:00:03\r\u001b[K     |██▍                             | 1.3 MB 5.8 MB/s eta 0:00:03\r\u001b[K     |██▍                             | 1.3 MB 5.8 MB/s eta 0:00:03\r\u001b[K     |██▌                             | 1.3 MB 5.8 MB/s eta 0:00:03\r\u001b[K     |██▌                             | 1.3 MB 5.8 MB/s eta 0:00:03\r\u001b[K     |██▌                             | 1.4 MB 5.8 MB/s eta 0:00:03\r\u001b[K     |██▌                             | 1.4 MB 5.8 MB/s eta 0:00:03\r\u001b[K     |██▌                             | 1.4 MB 5.8 MB/s eta 0:00:03\r\u001b[K     |██▌                             | 1.4 MB 5.8 MB/s eta 0:00:03\r\u001b[K     |██▋                             | 1.4 MB 5.8 MB/s eta 0:00:03\r\u001b[K     |██▋                             | 1.4 MB 5.8 MB/s eta 0:00:03\r\u001b[K     |██▋                             | 1.4 MB 5.8 MB/s eta 0:00:03\r\u001b[K     |██▋                             | 1.4 MB 5.8 MB/s eta 0:00:03\r\u001b[K     |██▋                             | 1.4 MB 5.8 MB/s eta 0:00:03\r\u001b[K     |██▊                             | 1.4 MB 5.8 MB/s eta 0:00:03\r\u001b[K     |██▊                             | 1.5 MB 5.8 MB/s eta 0:00:03\r\u001b[K     |██▊                             | 1.5 MB 5.8 MB/s eta 0:00:03\r\u001b[K     |██▊                             | 1.5 MB 5.8 MB/s eta 0:00:03\r\u001b[K     |██▊                             | 1.5 MB 5.8 MB/s eta 0:00:03\r\u001b[K     |██▊                             | 1.5 MB 5.8 MB/s eta 0:00:03\r\u001b[K     |██▉                             | 1.5 MB 5.8 MB/s eta 0:00:03\r\u001b[K     |██▉                             | 1.5 MB 5.8 MB/s eta 0:00:03\r\u001b[K     |██▉                             | 1.5 MB 5.8 MB/s eta 0:00:03\r\u001b[K     |██▉                             | 1.5 MB 5.8 MB/s eta 0:00:03\r\u001b[K     |██▉                             | 1.5 MB 5.8 MB/s eta 0:00:03\r\u001b[K     |██▉                             | 1.6 MB 5.8 MB/s eta 0:00:03\r\u001b[K     |███                             | 1.6 MB 5.8 MB/s eta 0:00:03\r\u001b[K     |███                             | 1.6 MB 5.8 MB/s eta 0:00:03\r\u001b[K     |███                             | 1.6 MB 5.8 MB/s eta 0:00:03\r\u001b[K     |███                             | 1.6 MB 5.8 MB/s eta 0:00:03\r\u001b[K     |███                             | 1.6 MB 5.8 MB/s eta 0:00:03\r\u001b[K     |███                             | 1.6 MB 5.8 MB/s eta 0:00:03\r\u001b[K     |███                             | 1.6 MB 5.8 MB/s eta 0:00:03\r\u001b[K     |███                             | 1.6 MB 5.8 MB/s eta 0:00:03\r\u001b[K     |███                             | 1.6 MB 5.8 MB/s eta 0:00:03\r\u001b[K     |███                             | 1.7 MB 5.8 MB/s eta 0:00:03\r\u001b[K     |███                             | 1.7 MB 5.8 MB/s eta 0:00:03\r\u001b[K     |███                             | 1.7 MB 5.8 MB/s eta 0:00:03\r\u001b[K     |███▏                            | 1.7 MB 5.8 MB/s eta 0:00:03\r\u001b[K     |███▏                            | 1.7 MB 5.8 MB/s eta 0:00:03\r\u001b[K     |███▏                            | 1.7 MB 5.8 MB/s eta 0:00:03\r\u001b[K     |███▏                            | 1.7 MB 5.8 MB/s eta 0:00:03\r\u001b[K     |███▏                            | 1.7 MB 5.8 MB/s eta 0:00:03\r\u001b[K     |███▏                            | 1.7 MB 5.8 MB/s eta 0:00:03\r\u001b[K     |███▎                            | 1.8 MB 5.8 MB/s eta 0:00:03\r\u001b[K     |███▎                            | 1.8 MB 5.8 MB/s eta 0:00:03\r\u001b[K     |███▎                            | 1.8 MB 5.8 MB/s eta 0:00:03\r\u001b[K     |███▎                            | 1.8 MB 5.8 MB/s eta 0:00:03\r\u001b[K     |███▎                            | 1.8 MB 5.8 MB/s eta 0:00:03\r\u001b[K     |███▎                            | 1.8 MB 5.8 MB/s eta 0:00:03\r\u001b[K     |███▍                            | 1.8 MB 5.8 MB/s eta 0:00:03\r\u001b[K     |███▍                            | 1.8 MB 5.8 MB/s eta 0:00:03\r\u001b[K     |███▍                            | 1.8 MB 5.8 MB/s eta 0:00:03\r\u001b[K     |███▍                            | 1.8 MB 5.8 MB/s eta 0:00:03\r\u001b[K     |███▍                            | 1.9 MB 5.8 MB/s eta 0:00:03\r\u001b[K     |███▌                            | 1.9 MB 5.8 MB/s eta 0:00:03\r\u001b[K     |███▌                            | 1.9 MB 5.8 MB/s eta 0:00:03\r\u001b[K     |███▌                            | 1.9 MB 5.8 MB/s eta 0:00:03\r\u001b[K     |███▌                            | 1.9 MB 5.8 MB/s eta 0:00:03\r\u001b[K     |███▌                            | 1.9 MB 5.8 MB/s eta 0:00:03\r\u001b[K     |███▌                            | 1.9 MB 5.8 MB/s eta 0:00:03\r\u001b[K     |███▋                            | 1.9 MB 5.8 MB/s eta 0:00:03\r\u001b[K     |███▋                            | 1.9 MB 5.8 MB/s eta 0:00:03\r\u001b[K     |███▋                            | 1.9 MB 5.8 MB/s eta 0:00:03\r\u001b[K     |███▋                            | 2.0 MB 5.8 MB/s eta 0:00:03\r\u001b[K     |███▋                            | 2.0 MB 5.8 MB/s eta 0:00:03\r\u001b[K     |███▋                            | 2.0 MB 5.8 MB/s eta 0:00:03\r\u001b[K     |███▊                            | 2.0 MB 5.8 MB/s eta 0:00:03\r\u001b[K     |███▊                            | 2.0 MB 5.8 MB/s eta 0:00:03\r\u001b[K     |███▊                            | 2.0 MB 5.8 MB/s eta 0:00:03\r\u001b[K     |███▊                            | 2.0 MB 5.8 MB/s eta 0:00:03\r\u001b[K     |███▊                            | 2.0 MB 5.8 MB/s eta 0:00:03\r\u001b[K     |███▊                            | 2.0 MB 5.8 MB/s eta 0:00:03\r\u001b[K     |███▉                            | 2.0 MB 5.8 MB/s eta 0:00:03\r\u001b[K     |███▉                            | 2.1 MB 5.8 MB/s eta 0:00:03\r\u001b[K     |███▉                            | 2.1 MB 5.8 MB/s eta 0:00:03\r\u001b[K     |███▉                            | 2.1 MB 5.8 MB/s eta 0:00:03\r\u001b[K     |███▉                            | 2.1 MB 5.8 MB/s eta 0:00:03\r\u001b[K     |███▉                            | 2.1 MB 5.8 MB/s eta 0:00:03\r\u001b[K     |████                            | 2.1 MB 5.8 MB/s eta 0:00:03\r\u001b[K     |████                            | 2.1 MB 5.8 MB/s eta 0:00:03\r\u001b[K     |████                            | 2.1 MB 5.8 MB/s eta 0:00:03\r\u001b[K     |████                            | 2.1 MB 5.8 MB/s eta 0:00:03\r\u001b[K     |████                            | 2.2 MB 5.8 MB/s eta 0:00:03\r\u001b[K     |████                            | 2.2 MB 5.8 MB/s eta 0:00:03\r\u001b[K     |████                            | 2.2 MB 5.8 MB/s eta 0:00:03\r\u001b[K     |████                            | 2.2 MB 5.8 MB/s eta 0:00:03\r\u001b[K     |████                            | 2.2 MB 5.8 MB/s eta 0:00:03\r\u001b[K     |████                            | 2.2 MB 5.8 MB/s eta 0:00:03\r\u001b[K     |████                            | 2.2 MB 5.8 MB/s eta 0:00:03\r\u001b[K     |████                            | 2.2 MB 5.8 MB/s eta 0:00:03\r\u001b[K     |████▏                           | 2.2 MB 5.8 MB/s eta 0:00:03\r\u001b[K     |████▏                           | 2.2 MB 5.8 MB/s eta 0:00:03\r\u001b[K     |████▏                           | 2.3 MB 5.8 MB/s eta 0:00:03\r\u001b[K     |████▏                           | 2.3 MB 5.8 MB/s eta 0:00:03\r\u001b[K     |████▏                           | 2.3 MB 5.8 MB/s eta 0:00:03\r\u001b[K     |████▏                           | 2.3 MB 5.8 MB/s eta 0:00:03\r\u001b[K     |████▎                           | 2.3 MB 5.8 MB/s eta 0:00:03\r\u001b[K     |████▎                           | 2.3 MB 5.8 MB/s eta 0:00:03\r\u001b[K     |████▎                           | 2.3 MB 5.8 MB/s eta 0:00:03\r\u001b[K     |████▎                           | 2.3 MB 5.8 MB/s eta 0:00:03\r\u001b[K     |████▎                           | 2.3 MB 5.8 MB/s eta 0:00:03\r\u001b[K     |████▍                           | 2.3 MB 5.8 MB/s eta 0:00:03\r\u001b[K     |████▍                           | 2.4 MB 5.8 MB/s eta 0:00:03\r\u001b[K     |████▍                           | 2.4 MB 5.8 MB/s eta 0:00:03\r\u001b[K     |████▍                           | 2.4 MB 5.8 MB/s eta 0:00:03\r\u001b[K     |████▍                           | 2.4 MB 5.8 MB/s eta 0:00:03\r\u001b[K     |████▍                           | 2.4 MB 5.8 MB/s eta 0:00:03\r\u001b[K     |████▌                           | 2.4 MB 5.8 MB/s eta 0:00:03\r\u001b[K     |████▌                           | 2.4 MB 5.8 MB/s eta 0:00:03\r\u001b[K     |████▌                           | 2.4 MB 5.8 MB/s eta 0:00:03\r\u001b[K     |████▌                           | 2.4 MB 5.8 MB/s eta 0:00:03\r\u001b[K     |████▌                           | 2.4 MB 5.8 MB/s eta 0:00:03\r\u001b[K     |████▌                           | 2.5 MB 5.8 MB/s eta 0:00:03\r\u001b[K     |████▋                           | 2.5 MB 5.8 MB/s eta 0:00:03\r\u001b[K     |████▋                           | 2.5 MB 5.8 MB/s eta 0:00:03\r\u001b[K     |████▋                           | 2.5 MB 5.8 MB/s eta 0:00:03\r\u001b[K     |████▋                           | 2.5 MB 5.8 MB/s eta 0:00:03\r\u001b[K     |████▋                           | 2.5 MB 5.8 MB/s eta 0:00:03\r\u001b[K     |████▋                           | 2.5 MB 5.8 MB/s eta 0:00:03\r\u001b[K     |████▊                           | 2.5 MB 5.8 MB/s eta 0:00:03\r\u001b[K     |████▊                           | 2.5 MB 5.8 MB/s eta 0:00:03\r\u001b[K     |████▊                           | 2.5 MB 5.8 MB/s eta 0:00:03\r\u001b[K     |████▊                           | 2.6 MB 5.8 MB/s eta 0:00:03\r\u001b[K     |████▊                           | 2.6 MB 5.8 MB/s eta 0:00:03\r\u001b[K     |████▊                           | 2.6 MB 5.8 MB/s eta 0:00:03\r\u001b[K     |████▉                           | 2.6 MB 5.8 MB/s eta 0:00:03\r\u001b[K     |████▉                           | 2.6 MB 5.8 MB/s eta 0:00:03\r\u001b[K     |████▉                           | 2.6 MB 5.8 MB/s eta 0:00:03\r\u001b[K     |████▉                           | 2.6 MB 5.8 MB/s eta 0:00:03\r\u001b[K     |████▉                           | 2.6 MB 5.8 MB/s eta 0:00:03\r\u001b[K     |████▉                           | 2.6 MB 5.8 MB/s eta 0:00:03\r\u001b[K     |█████                           | 2.7 MB 5.8 MB/s eta 0:00:03\r\u001b[K     |█████                           | 2.7 MB 5.8 MB/s eta 0:00:03\r\u001b[K     |█████                           | 2.7 MB 5.8 MB/s eta 0:00:03\r\u001b[K     |█████                           | 2.7 MB 5.8 MB/s eta 0:00:03\r\u001b[K     |█████                           | 2.7 MB 5.8 MB/s eta 0:00:03\r\u001b[K     |█████                           | 2.7 MB 5.8 MB/s eta 0:00:03\r\u001b[K     |█████                           | 2.7 MB 5.8 MB/s eta 0:00:03\r\u001b[K     |█████                           | 2.7 MB 5.8 MB/s eta 0:00:03\r\u001b[K     |█████                           | 2.7 MB 5.8 MB/s eta 0:00:03\r\u001b[K     |█████                           | 2.7 MB 5.8 MB/s eta 0:00:03\r\u001b[K     |█████                           | 2.8 MB 5.8 MB/s eta 0:00:03\r\u001b[K     |█████                           | 2.8 MB 5.8 MB/s eta 0:00:03\r\u001b[K     |█████▏                          | 2.8 MB 5.8 MB/s eta 0:00:03\r\u001b[K     |█████▏                          | 2.8 MB 5.8 MB/s eta 0:00:03\r\u001b[K     |█████▏                          | 2.8 MB 5.8 MB/s eta 0:00:03\r\u001b[K     |█████▏                          | 2.8 MB 5.8 MB/s eta 0:00:03\r\u001b[K     |█████▏                          | 2.8 MB 5.8 MB/s eta 0:00:03\r\u001b[K     |█████▎                          | 2.8 MB 5.8 MB/s eta 0:00:03\r\u001b[K     |█████▎                          | 2.8 MB 5.8 MB/s eta 0:00:03\r\u001b[K     |█████▎                          | 2.8 MB 5.8 MB/s eta 0:00:03\r\u001b[K     |█████▎                          | 2.9 MB 5.8 MB/s eta 0:00:03\r\u001b[K     |█████▎                          | 2.9 MB 5.8 MB/s eta 0:00:03\r\u001b[K     |█████▎                          | 2.9 MB 5.8 MB/s eta 0:00:03\r\u001b[K     |█████▍                          | 2.9 MB 5.8 MB/s eta 0:00:03\r\u001b[K     |█████▍                          | 2.9 MB 5.8 MB/s eta 0:00:03\r\u001b[K     |█████▍                          | 2.9 MB 5.8 MB/s eta 0:00:03\r\u001b[K     |█████▍                          | 2.9 MB 5.8 MB/s eta 0:00:03\r\u001b[K     |█████▍                          | 2.9 MB 5.8 MB/s eta 0:00:03\r\u001b[K     |█████▍                          | 2.9 MB 5.8 MB/s eta 0:00:03\r\u001b[K     |█████▌                          | 2.9 MB 5.8 MB/s eta 0:00:03\r\u001b[K     |█████▌                          | 3.0 MB 5.8 MB/s eta 0:00:03\r\u001b[K     |█████▌                          | 3.0 MB 5.8 MB/s eta 0:00:03\r\u001b[K     |█████▌                          | 3.0 MB 5.8 MB/s eta 0:00:03\r\u001b[K     |█████▌                          | 3.0 MB 5.8 MB/s eta 0:00:03\r\u001b[K     |█████▌                          | 3.0 MB 5.8 MB/s eta 0:00:03\r\u001b[K     |█████▋                          | 3.0 MB 5.8 MB/s eta 0:00:03\r\u001b[K     |█████▋                          | 3.0 MB 5.8 MB/s eta 0:00:03\r\u001b[K     |█████▋                          | 3.0 MB 5.8 MB/s eta 0:00:03\r\u001b[K     |█████▋                          | 3.0 MB 5.8 MB/s eta 0:00:03\r\u001b[K     |█████▋                          | 3.1 MB 5.8 MB/s eta 0:00:03\r\u001b[K     |█████▋                          | 3.1 MB 5.8 MB/s eta 0:00:03\r\u001b[K     |█████▊                          | 3.1 MB 5.8 MB/s eta 0:00:03\r\u001b[K     |█████▊                          | 3.1 MB 5.8 MB/s eta 0:00:03\r\u001b[K     |█████▊                          | 3.1 MB 5.8 MB/s eta 0:00:03\r\u001b[K     |█████▊                          | 3.1 MB 5.8 MB/s eta 0:00:03\r\u001b[K     |█████▊                          | 3.1 MB 5.8 MB/s eta 0:00:03\r\u001b[K     |█████▊                          | 3.1 MB 5.8 MB/s eta 0:00:03\r\u001b[K     |█████▉                          | 3.1 MB 5.8 MB/s eta 0:00:03\r\u001b[K     |█████▉                          | 3.1 MB 5.8 MB/s eta 0:00:03\r\u001b[K     |█████▉                          | 3.2 MB 5.8 MB/s eta 0:00:03\r\u001b[K     |█████▉                          | 3.2 MB 5.8 MB/s eta 0:00:03\r\u001b[K     |█████▉                          | 3.2 MB 5.8 MB/s eta 0:00:03\r\u001b[K     |█████▉                          | 3.2 MB 5.8 MB/s eta 0:00:03\r\u001b[K     |██████                          | 3.2 MB 5.8 MB/s eta 0:00:03\r\u001b[K     |██████                          | 3.2 MB 5.8 MB/s eta 0:00:03\r\u001b[K     |██████                          | 3.2 MB 5.8 MB/s eta 0:00:03\r\u001b[K     |██████                          | 3.2 MB 5.8 MB/s eta 0:00:03\r\u001b[K     |██████                          | 3.2 MB 5.8 MB/s eta 0:00:03\r\u001b[K     |██████                          | 3.2 MB 5.8 MB/s eta 0:00:03\r\u001b[K     |██████                          | 3.3 MB 5.8 MB/s eta 0:00:03\r\u001b[K     |██████                          | 3.3 MB 5.8 MB/s eta 0:00:03\r\u001b[K     |██████                          | 3.3 MB 5.8 MB/s eta 0:00:03\r\u001b[K     |██████                          | 3.3 MB 5.8 MB/s eta 0:00:03\r\u001b[K     |██████                          | 3.3 MB 5.8 MB/s eta 0:00:03\r\u001b[K     |██████▏                         | 3.3 MB 5.8 MB/s eta 0:00:03\r\u001b[K     |██████▏                         | 3.3 MB 5.8 MB/s eta 0:00:03\r\u001b[K     |██████▏                         | 3.3 MB 5.8 MB/s eta 0:00:03\r\u001b[K     |██████▏                         | 3.3 MB 5.8 MB/s eta 0:00:03\r\u001b[K     |██████▏                         | 3.3 MB 5.8 MB/s eta 0:00:03\r\u001b[K     |██████▏                         | 3.4 MB 5.8 MB/s eta 0:00:03\r\u001b[K     |██████▎                         | 3.4 MB 5.8 MB/s eta 0:00:03\r\u001b[K     |██████▎                         | 3.4 MB 5.8 MB/s eta 0:00:03\r\u001b[K     |██████▎                         | 3.4 MB 5.8 MB/s eta 0:00:03\r\u001b[K     |██████▎                         | 3.4 MB 5.8 MB/s eta 0:00:03\r\u001b[K     |██████▎                         | 3.4 MB 5.8 MB/s eta 0:00:03\r\u001b[K     |██████▎                         | 3.4 MB 5.8 MB/s eta 0:00:03\r\u001b[K     |██████▍                         | 3.4 MB 5.8 MB/s eta 0:00:03\r\u001b[K     |██████▍                         | 3.4 MB 5.8 MB/s eta 0:00:03\r\u001b[K     |██████▍                         | 3.5 MB 5.8 MB/s eta 0:00:03\r\u001b[K     |██████▍                         | 3.5 MB 5.8 MB/s eta 0:00:03\r\u001b[K     |██████▍                         | 3.5 MB 5.8 MB/s eta 0:00:03\r\u001b[K     |██████▍                         | 3.5 MB 5.8 MB/s eta 0:00:03\r\u001b[K     |██████▌                         | 3.5 MB 5.8 MB/s eta 0:00:03\r\u001b[K     |██████▌                         | 3.5 MB 5.8 MB/s eta 0:00:03\r\u001b[K     |██████▌                         | 3.5 MB 5.8 MB/s eta 0:00:03\r\u001b[K     |██████▌                         | 3.5 MB 5.8 MB/s eta 0:00:03\r\u001b[K     |██████▌                         | 3.5 MB 5.8 MB/s eta 0:00:03\r\u001b[K     |██████▌                         | 3.5 MB 5.8 MB/s eta 0:00:03\r\u001b[K     |██████▋                         | 3.6 MB 5.8 MB/s eta 0:00:03\r\u001b[K     |██████▋                         | 3.6 MB 5.8 MB/s eta 0:00:03\r\u001b[K     |██████▋                         | 3.6 MB 5.8 MB/s eta 0:00:03\r\u001b[K     |██\n\n*** WARNING: max output size exceeded, skipping output. ***\n\n8 MB/s eta 0:00:01\r\u001b[K     |█████████████████████████▊      | 13.9 MB 5.8 MB/s eta 0:00:01\r\u001b[K     |█████████████████████████▊      | 13.9 MB 5.8 MB/s eta 0:00:01\r\u001b[K     |█████████████████████████▊      | 13.9 MB 5.8 MB/s eta 0:00:01\r\u001b[K     |█████████████████████████▊      | 13.9 MB 5.8 MB/s eta 0:00:01\r\u001b[K     |█████████████████████████▉      | 13.9 MB 5.8 MB/s eta 0:00:01\r\u001b[K     |█████████████████████████▉      | 14.0 MB 5.8 MB/s eta 0:00:01\r\u001b[K     |█████████████████████████▉      | 14.0 MB 5.8 MB/s eta 0:00:01\r\u001b[K     |█████████████████████████▉      | 14.0 MB 5.8 MB/s eta 0:00:01\r\u001b[K     |█████████████████████████▉      | 14.0 MB 5.8 MB/s eta 0:00:01\r\u001b[K     |█████████████████████████▉      | 14.0 MB 5.8 MB/s eta 0:00:01\r\u001b[K     |██████████████████████████      | 14.0 MB 5.8 MB/s eta 0:00:01\r\u001b[K     |██████████████████████████      | 14.0 MB 5.8 MB/s eta 0:00:01\r\u001b[K     |██████████████████████████      | 14.0 MB 5.8 MB/s eta 0:00:01\r\u001b[K     |██████████████████████████      | 14.0 MB 5.8 MB/s eta 0:00:01\r\u001b[K     |██████████████████████████      | 14.0 MB 5.8 MB/s eta 0:00:01\r\u001b[K     |██████████████████████████      | 14.1 MB 5.8 MB/s eta 0:00:01\r\u001b[K     |██████████████████████████      | 14.1 MB 5.8 MB/s eta 0:00:01\r\u001b[K     |██████████████████████████      | 14.1 MB 5.8 MB/s eta 0:00:01\r\u001b[K     |██████████████████████████      | 14.1 MB 5.8 MB/s eta 0:00:01\r\u001b[K     |██████████████████████████      | 14.1 MB 5.8 MB/s eta 0:00:01\r\u001b[K     |██████████████████████████      | 14.1 MB 5.8 MB/s eta 0:00:01\r\u001b[K     |██████████████████████████      | 14.1 MB 5.8 MB/s eta 0:00:01\r\u001b[K     |██████████████████████████▏     | 14.1 MB 5.8 MB/s eta 0:00:01\r\u001b[K     |██████████████████████████▏     | 14.1 MB 5.8 MB/s eta 0:00:01\r\u001b[K     |██████████████████████████▏     | 14.2 MB 5.8 MB/s eta 0:00:01\r\u001b[K     |██████████████████████████▏     | 14.2 MB 5.8 MB/s eta 0:00:01\r\u001b[K     |██████████████████████████▏     | 14.2 MB 5.8 MB/s eta 0:00:01\r\u001b[K     |██████████████████████████▏     | 14.2 MB 5.8 MB/s eta 0:00:01\r\u001b[K     |██████████████████████████▎     | 14.2 MB 5.8 MB/s eta 0:00:01\r\u001b[K     |██████████████████████████▎     | 14.2 MB 5.8 MB/s eta 0:00:01\r\u001b[K     |██████████████████████████▎     | 14.2 MB 5.8 MB/s eta 0:00:01\r\u001b[K     |██████████████████████████▎     | 14.2 MB 5.8 MB/s eta 0:00:01\r\u001b[K     |██████████████████████████▎     | 14.2 MB 5.8 MB/s eta 0:00:01\r\u001b[K     |██████████████████████████▎     | 14.2 MB 5.8 MB/s eta 0:00:01\r\u001b[K     |██████████████████████████▍     | 14.3 MB 5.8 MB/s eta 0:00:01\r\u001b[K     |██████████████████████████▍     | 14.3 MB 5.8 MB/s eta 0:00:01\r\u001b[K     |██████████████████████████▍     | 14.3 MB 5.8 MB/s eta 0:00:01\r\u001b[K     |██████████████████████████▍     | 14.3 MB 5.8 MB/s eta 0:00:01\r\u001b[K     |██████████████████████████▍     | 14.3 MB 5.8 MB/s eta 0:00:01\r\u001b[K     |██████████████████████████▍     | 14.3 MB 5.8 MB/s eta 0:00:01\r\u001b[K     |██████████████████████████▌     | 14.3 MB 5.8 MB/s eta 0:00:01\r\u001b[K     |██████████████████████████▌     | 14.3 MB 5.8 MB/s eta 0:00:01\r\u001b[K     |██████████████████████████▌     | 14.3 MB 5.8 MB/s eta 0:00:01\r\u001b[K     |██████████████████████████▌     | 14.3 MB 5.8 MB/s eta 0:00:01\r\u001b[K     |██████████████████████████▌     | 14.4 MB 5.8 MB/s eta 0:00:01\r\u001b[K     |██████████████████████████▋     | 14.4 MB 5.8 MB/s eta 0:00:01\r\u001b[K     |██████████████████████████▋     | 14.4 MB 5.8 MB/s eta 0:00:01\r\u001b[K     |██████████████████████████▋     | 14.4 MB 5.8 MB/s eta 0:00:01\r\u001b[K     |██████████████████████████▋     | 14.4 MB 5.8 MB/s eta 0:00:01\r\u001b[K     |██████████████████████████▋     | 14.4 MB 5.8 MB/s eta 0:00:01\r\u001b[K     |██████████████████████████▋     | 14.4 MB 5.8 MB/s eta 0:00:01\r\u001b[K     |██████████████████████████▊     | 14.4 MB 5.8 MB/s eta 0:00:01\r\u001b[K     |██████████████████████████▊     | 14.4 MB 5.8 MB/s eta 0:00:01\r\u001b[K     |██████████████████████████▊     | 14.4 MB 5.8 MB/s eta 0:00:01\r\u001b[K     |██████████████████████████▊     | 14.5 MB 5.8 MB/s eta 0:00:01\r\u001b[K     |██████████████████████████▊     | 14.5 MB 5.8 MB/s eta 0:00:01\r\u001b[K     |██████████████████████████▊     | 14.5 MB 5.8 MB/s eta 0:00:01\r\u001b[K     |██████████████████████████▉     | 14.5 MB 5.8 MB/s eta 0:00:01\r\u001b[K     |██████████████████████████▉     | 14.5 MB 5.8 MB/s eta 0:00:01\r\u001b[K     |██████████████████████████▉     | 14.5 MB 5.8 MB/s eta 0:00:01\r\u001b[K     |██████████████████████████▉     | 14.5 MB 5.8 MB/s eta 0:00:01\r\u001b[K     |██████████████████████████▉     | 14.5 MB 5.8 MB/s eta 0:00:01\r\u001b[K     |██████████████████████████▉     | 14.5 MB 5.8 MB/s eta 0:00:01\r\u001b[K     |███████████████████████████     | 14.6 MB 5.8 MB/s eta 0:00:01\r\u001b[K     |███████████████████████████     | 14.6 MB 5.8 MB/s eta 0:00:01\r\u001b[K     |███████████████████████████     | 14.6 MB 5.8 MB/s eta 0:00:01\r\u001b[K     |███████████████████████████     | 14.6 MB 5.8 MB/s eta 0:00:01\r\u001b[K     |███████████████████████████     | 14.6 MB 5.8 MB/s eta 0:00:01\r\u001b[K     |███████████████████████████     | 14.6 MB 5.8 MB/s eta 0:00:01\r\u001b[K     |███████████████████████████     | 14.6 MB 5.8 MB/s eta 0:00:01\r\u001b[K     |███████████████████████████     | 14.6 MB 5.8 MB/s eta 0:00:01\r\u001b[K     |███████████████████████████     | 14.6 MB 5.8 MB/s eta 0:00:01\r\u001b[K     |███████████████████████████     | 14.6 MB 5.8 MB/s eta 0:00:01\r\u001b[K     |███████████████████████████     | 14.7 MB 5.8 MB/s eta 0:00:01\r\u001b[K     |███████████████████████████     | 14.7 MB 5.8 MB/s eta 0:00:01\r\u001b[K     |███████████████████████████▏    | 14.7 MB 5.8 MB/s eta 0:00:01\r\u001b[K     |███████████████████████████▏    | 14.7 MB 5.8 MB/s eta 0:00:01\r\u001b[K     |███████████████████████████▏    | 14.7 MB 5.8 MB/s eta 0:00:01\r\u001b[K     |███████████████████████████▏    | 14.7 MB 5.8 MB/s eta 0:00:01\r\u001b[K     |███████████████████████████▏    | 14.7 MB 5.8 MB/s eta 0:00:01\r\u001b[K     |███████████████████████████▏    | 14.7 MB 5.8 MB/s eta 0:00:01\r\u001b[K     |███████████████████████████▎    | 14.7 MB 5.8 MB/s eta 0:00:01\r\u001b[K     |███████████████████████████▎    | 14.7 MB 5.8 MB/s eta 0:00:01\r\u001b[K     |███████████████████████████▎    | 14.8 MB 5.8 MB/s eta 0:00:01\r\u001b[K     |███████████████████████████▎    | 14.8 MB 5.8 MB/s eta 0:00:01\r\u001b[K     |███████████████████████████▎    | 14.8 MB 5.8 MB/s eta 0:00:01\r\u001b[K     |███████████████████████████▍    | 14.8 MB 5.8 MB/s eta 0:00:01\r\u001b[K     |███████████████████████████▍    | 14.8 MB 5.8 MB/s eta 0:00:01\r\u001b[K     |███████████████████████████▍    | 14.8 MB 5.8 MB/s eta 0:00:01\r\u001b[K     |███████████████████████████▍    | 14.8 MB 5.8 MB/s eta 0:00:01\r\u001b[K     |███████████████████████████▍    | 14.8 MB 5.8 MB/s eta 0:00:01\r\u001b[K     |███████████████████████████▍    | 14.8 MB 5.8 MB/s eta 0:00:01\r\u001b[K     |███████████████████████████▌    | 14.8 MB 5.8 MB/s eta 0:00:01\r\u001b[K     |███████████████████████████▌    | 14.9 MB 5.8 MB/s eta 0:00:01\r\u001b[K     |███████████████████████████▌    | 14.9 MB 5.8 MB/s eta 0:00:01\r\u001b[K     |███████████████████████████▌    | 14.9 MB 5.8 MB/s eta 0:00:01\r\u001b[K     |███████████████████████████▌    | 14.9 MB 5.8 MB/s eta 0:00:01\r\u001b[K     |███████████████████████████▌    | 14.9 MB 5.8 MB/s eta 0:00:01\r\u001b[K     |███████████████████████████▋    | 14.9 MB 5.8 MB/s eta 0:00:01\r\u001b[K     |███████████████████████████▋    | 14.9 MB 5.8 MB/s eta 0:00:01\r\u001b[K     |███████████████████████████▋    | 14.9 MB 5.8 MB/s eta 0:00:01\r\u001b[K     |███████████████████████████▋    | 14.9 MB 5.8 MB/s eta 0:00:01\r\u001b[K     |███████████████████████████▋    | 15.0 MB 5.8 MB/s eta 0:00:01\r\u001b[K     |███████████████████████████▋    | 15.0 MB 5.8 MB/s eta 0:00:01\r\u001b[K     |███████████████████████████▊    | 15.0 MB 5.8 MB/s eta 0:00:01\r\u001b[K     |███████████████████████████▊    | 15.0 MB 5.8 MB/s eta 0:00:01\r\u001b[K     |███████████████████████████▊    | 15.0 MB 5.8 MB/s eta 0:00:01\r\u001b[K     |███████████████████████████▊    | 15.0 MB 5.8 MB/s eta 0:00:01\r\u001b[K     |███████████████████████████▊    | 15.0 MB 5.8 MB/s eta 0:00:01\r\u001b[K     |███████████████████████████▊    | 15.0 MB 5.8 MB/s eta 0:00:01\r\u001b[K     |███████████████████████████▉    | 15.0 MB 5.8 MB/s eta 0:00:01\r\u001b[K     |███████████████████████████▉    | 15.0 MB 5.8 MB/s eta 0:00:01\r\u001b[K     |███████████████████████████▉    | 15.1 MB 5.8 MB/s eta 0:00:01\r\u001b[K     |███████████████████████████▉    | 15.1 MB 5.8 MB/s eta 0:00:01\r\u001b[K     |███████████████████████████▉    | 15.1 MB 5.8 MB/s eta 0:00:01\r\u001b[K     |███████████████████████████▉    | 15.1 MB 5.8 MB/s eta 0:00:01\r\u001b[K     |████████████████████████████    | 15.1 MB 5.8 MB/s eta 0:00:01\r\u001b[K     |████████████████████████████    | 15.1 MB 5.8 MB/s eta 0:00:01\r\u001b[K     |████████████████████████████    | 15.1 MB 5.8 MB/s eta 0:00:01\r\u001b[K     |████████████████████████████    | 15.1 MB 5.8 MB/s eta 0:00:01\r\u001b[K     |████████████████████████████    | 15.1 MB 5.8 MB/s eta 0:00:01\r\u001b[K     |████████████████████████████    | 15.1 MB 5.8 MB/s eta 0:00:01\r\u001b[K     |████████████████████████████    | 15.2 MB 5.8 MB/s eta 0:00:01\r\u001b[K     |████████████████████████████    | 15.2 MB 5.8 MB/s eta 0:00:01\r\u001b[K     |████████████████████████████    | 15.2 MB 5.8 MB/s eta 0:00:01\r\u001b[K     |████████████████████████████    | 15.2 MB 5.8 MB/s eta 0:00:01\r\u001b[K     |████████████████████████████    | 15.2 MB 5.8 MB/s eta 0:00:01\r\u001b[K     |████████████████████████████    | 15.2 MB 5.8 MB/s eta 0:00:01\r\u001b[K     |████████████████████████████▏   | 15.2 MB 5.8 MB/s eta 0:00:01\r\u001b[K     |████████████████████████████▏   | 15.2 MB 5.8 MB/s eta 0:00:01\r\u001b[K     |████████████████████████████▏   | 15.2 MB 5.8 MB/s eta 0:00:01\r\u001b[K     |████████████████████████████▏   | 15.2 MB 5.8 MB/s eta 0:00:01\r\u001b[K     |████████████████████████████▏   | 15.3 MB 5.8 MB/s eta 0:00:01\r\u001b[K     |████████████████████████████▎   | 15.3 MB 5.8 MB/s eta 0:00:01\r\u001b[K     |████████████████████████████▎   | 15.3 MB 5.8 MB/s eta 0:00:01\r\u001b[K     |████████████████████████████▎   | 15.3 MB 5.8 MB/s eta 0:00:01\r\u001b[K     |████████████████████████████▎   | 15.3 MB 5.8 MB/s eta 0:00:01\r\u001b[K     |████████████████████████████▎   | 15.3 MB 5.8 MB/s eta 0:00:01\r\u001b[K     |████████████████████████████▎   | 15.3 MB 5.8 MB/s eta 0:00:01\r\u001b[K     |████████████████████████████▍   | 15.3 MB 5.8 MB/s eta 0:00:01\r\u001b[K     |████████████████████████████▍   | 15.3 MB 5.8 MB/s eta 0:00:01\r\u001b[K     |████████████████████████████▍   | 15.3 MB 5.8 MB/s eta 0:00:01\r\u001b[K     |████████████████████████████▍   | 15.4 MB 5.8 MB/s eta 0:00:01\r\u001b[K     |████████████████████████████▍   | 15.4 MB 5.8 MB/s eta 0:00:01\r\u001b[K     |████████████████████████████▍   | 15.4 MB 5.8 MB/s eta 0:00:01\r\u001b[K     |████████████████████████████▌   | 15.4 MB 5.8 MB/s eta 0:00:01\r\u001b[K     |████████████████████████████▌   | 15.4 MB 5.8 MB/s eta 0:00:01\r\u001b[K     |████████████████████████████▌   | 15.4 MB 5.8 MB/s eta 0:00:01\r\u001b[K     |████████████████████████████▌   | 15.4 MB 5.8 MB/s eta 0:00:01\r\u001b[K     |████████████████████████████▌   | 15.4 MB 5.8 MB/s eta 0:00:01\r\u001b[K     |████████████████████████████▌   | 15.4 MB 5.8 MB/s eta 0:00:01\r\u001b[K     |████████████████████████████▋   | 15.5 MB 5.8 MB/s eta 0:00:01\r\u001b[K     |████████████████████████████▋   | 15.5 MB 5.8 MB/s eta 0:00:01\r\u001b[K     |████████████████████████████▋   | 15.5 MB 5.8 MB/s eta 0:00:01\r\u001b[K     |████████████████████████████▋   | 15.5 MB 5.8 MB/s eta 0:00:01\r\u001b[K     |████████████████████████████▋   | 15.5 MB 5.8 MB/s eta 0:00:01\r\u001b[K     |████████████████████████████▋   | 15.5 MB 5.8 MB/s eta 0:00:01\r\u001b[K     |████████████████████████████▊   | 15.5 MB 5.8 MB/s eta 0:00:01\r\u001b[K     |████████████████████████████▊   | 15.5 MB 5.8 MB/s eta 0:00:01\r\u001b[K     |████████████████████████████▊   | 15.5 MB 5.8 MB/s eta 0:00:01\r\u001b[K     |████████████████████████████▊   | 15.5 MB 5.8 MB/s eta 0:00:01\r\u001b[K     |████████████████████████████▊   | 15.6 MB 5.8 MB/s eta 0:00:01\r\u001b[K     |████████████████████████████▊   | 15.6 MB 5.8 MB/s eta 0:00:01\r\u001b[K     |████████████████████████████▉   | 15.6 MB 5.8 MB/s eta 0:00:01\r\u001b[K     |████████████████████████████▉   | 15.6 MB 5.8 MB/s eta 0:00:01\r\u001b[K     |████████████████████████████▉   | 15.6 MB 5.8 MB/s eta 0:00:01\r\u001b[K     |████████████████████████████▉   | 15.6 MB 5.8 MB/s eta 0:00:01\r\u001b[K     |████████████████████████████▉   | 15.6 MB 5.8 MB/s eta 0:00:01\r\u001b[K     |████████████████████████████▉   | 15.6 MB 5.8 MB/s eta 0:00:01\r\u001b[K     |█████████████████████████████   | 15.6 MB 5.8 MB/s eta 0:00:01\r\u001b[K     |█████████████████████████████   | 15.6 MB 5.8 MB/s eta 0:00:01\r\u001b[K     |█████████████████████████████   | 15.7 MB 5.8 MB/s eta 0:00:01\r\u001b[K     |█████████████████████████████   | 15.7 MB 5.8 MB/s eta 0:00:01\r\u001b[K     |█████████████████████████████   | 15.7 MB 5.8 MB/s eta 0:00:01\r\u001b[K     |█████████████████████████████   | 15.7 MB 5.8 MB/s eta 0:00:01\r\u001b[K     |█████████████████████████████   | 15.7 MB 5.8 MB/s eta 0:00:01\r\u001b[K     |█████████████████████████████   | 15.7 MB 5.8 MB/s eta 0:00:01\r\u001b[K     |█████████████████████████████   | 15.7 MB 5.8 MB/s eta 0:00:01\r\u001b[K     |█████████████████████████████   | 15.7 MB 5.8 MB/s eta 0:00:01\r\u001b[K     |█████████████████████████████   | 15.7 MB 5.8 MB/s eta 0:00:01\r\u001b[K     |█████████████████████████████▏  | 15.7 MB 5.8 MB/s eta 0:00:01\r\u001b[K     |█████████████████████████████▏  | 15.8 MB 5.8 MB/s eta 0:00:01\r\u001b[K     |█████████████████████████████▏  | 15.8 MB 5.8 MB/s eta 0:00:01\r\u001b[K     |█████████████████████████████▏  | 15.8 MB 5.8 MB/s eta 0:00:01\r\u001b[K     |█████████████████████████████▏  | 15.8 MB 5.8 MB/s eta 0:00:01\r\u001b[K     |█████████████████████████████▏  | 15.8 MB 5.8 MB/s eta 0:00:01\r\u001b[K     |█████████████████████████████▎  | 15.8 MB 5.8 MB/s eta 0:00:01\r\u001b[K     |█████████████████████████████▎  | 15.8 MB 5.8 MB/s eta 0:00:01\r\u001b[K     |█████████████████████████████▎  | 15.8 MB 5.8 MB/s eta 0:00:01\r\u001b[K     |█████████████████████████████▎  | 15.8 MB 5.8 MB/s eta 0:00:01\r\u001b[K     |█████████████████████████████▎  | 15.9 MB 5.8 MB/s eta 0:00:01\r\u001b[K     |█████████████████████████████▎  | 15.9 MB 5.8 MB/s eta 0:00:01\r\u001b[K     |█████████████████████████████▍  | 15.9 MB 5.8 MB/s eta 0:00:01\r\u001b[K     |█████████████████████████████▍  | 15.9 MB 5.8 MB/s eta 0:00:01\r\u001b[K     |█████████████████████████████▍  | 15.9 MB 5.8 MB/s eta 0:00:01\r\u001b[K     |█████████████████████████████▍  | 15.9 MB 5.8 MB/s eta 0:00:01\r\u001b[K     |█████████████████████████████▍  | 15.9 MB 5.8 MB/s eta 0:00:01\r\u001b[K     |█████████████████████████████▍  | 15.9 MB 5.8 MB/s eta 0:00:01\r\u001b[K     |█████████████████████████████▌  | 15.9 MB 5.8 MB/s eta 0:00:01\r\u001b[K     |█████████████████████████████▌  | 15.9 MB 5.8 MB/s eta 0:00:01\r\u001b[K     |█████████████████████████████▌  | 16.0 MB 5.8 MB/s eta 0:00:01\r\u001b[K     |█████████████████████████████▌  | 16.0 MB 5.8 MB/s eta 0:00:01\r\u001b[K     |█████████████████████████████▌  | 16.0 MB 5.8 MB/s eta 0:00:01\r\u001b[K     |█████████████████████████████▌  | 16.0 MB 5.8 MB/s eta 0:00:01\r\u001b[K     |█████████████████████████████▋  | 16.0 MB 5.8 MB/s eta 0:00:01\r\u001b[K     |█████████████████████████████▋  | 16.0 MB 5.8 MB/s eta 0:00:01\r\u001b[K     |█████████████████████████████▋  | 16.0 MB 5.8 MB/s eta 0:00:01\r\u001b[K     |█████████████████████████████▋  | 16.0 MB 5.8 MB/s eta 0:00:01\r\u001b[K     |█████████████████████████████▋  | 16.0 MB 5.8 MB/s eta 0:00:01\r\u001b[K     |█████████████████████████████▋  | 16.0 MB 5.8 MB/s eta 0:00:01\r\u001b[K     |█████████████████████████████▊  | 16.1 MB 5.8 MB/s eta 0:00:01\r\u001b[K     |█████████████████████████████▊  | 16.1 MB 5.8 MB/s eta 0:00:01\r\u001b[K     |█████████████████████████████▊  | 16.1 MB 5.8 MB/s eta 0:00:01\r\u001b[K     |█████████████████████████████▊  | 16.1 MB 5.8 MB/s eta 0:00:01\r\u001b[K     |█████████████████████████████▊  | 16.1 MB 5.8 MB/s eta 0:00:01\r\u001b[K     |█████████████████████████████▊  | 16.1 MB 5.8 MB/s eta 0:00:01\r\u001b[K     |█████████████████████████████▉  | 16.1 MB 5.8 MB/s eta 0:00:01\r\u001b[K     |█████████████████████████████▉  | 16.1 MB 5.8 MB/s eta 0:00:01\r\u001b[K     |█████████████████████████████▉  | 16.1 MB 5.8 MB/s eta 0:00:01\r\u001b[K     |█████████████████████████████▉  | 16.1 MB 5.8 MB/s eta 0:00:01\r\u001b[K     |█████████████████████████████▉  | 16.2 MB 5.8 MB/s eta 0:00:01\r\u001b[K     |██████████████████████████████  | 16.2 MB 5.8 MB/s eta 0:00:01\r\u001b[K     |██████████████████████████████  | 16.2 MB 5.8 MB/s eta 0:00:01\r\u001b[K     |██████████████████████████████  | 16.2 MB 5.8 MB/s eta 0:00:01\r\u001b[K     |██████████████████████████████  | 16.2 MB 5.8 MB/s eta 0:00:01\r\u001b[K     |██████████████████████████████  | 16.2 MB 5.8 MB/s eta 0:00:01\r\u001b[K     |██████████████████████████████  | 16.2 MB 5.8 MB/s eta 0:00:01\r\u001b[K     |██████████████████████████████  | 16.2 MB 5.8 MB/s eta 0:00:01\r\u001b[K     |██████████████████████████████  | 16.2 MB 5.8 MB/s eta 0:00:01\r\u001b[K     |██████████████████████████████  | 16.3 MB 5.8 MB/s eta 0:00:01\r\u001b[K     |██████████████████████████████  | 16.3 MB 5.8 MB/s eta 0:00:01\r\u001b[K     |██████████████████████████████  | 16.3 MB 5.8 MB/s eta 0:00:01\r\u001b[K     |██████████████████████████████  | 16.3 MB 5.8 MB/s eta 0:00:01\r\u001b[K     |██████████████████████████████▏ | 16.3 MB 5.8 MB/s eta 0:00:01\r\u001b[K     |██████████████████████████████▏ | 16.3 MB 5.8 MB/s eta 0:00:01\r\u001b[K     |██████████████████████████████▏ | 16.3 MB 5.8 MB/s eta 0:00:01\r\u001b[K     |██████████████████████████████▏ | 16.3 MB 5.8 MB/s eta 0:00:01\r\u001b[K     |██████████████████████████████▏ | 16.3 MB 5.8 MB/s eta 0:00:01\r\u001b[K     |██████████████████████████████▏ | 16.3 MB 5.8 MB/s eta 0:00:01\r\u001b[K     |██████████████████████████████▎ | 16.4 MB 5.8 MB/s eta 0:00:01\r\u001b[K     |██████████████████████████████▎ | 16.4 MB 5.8 MB/s eta 0:00:01\r\u001b[K     |██████████████████████████████▎ | 16.4 MB 5.8 MB/s eta 0:00:01\r\u001b[K     |██████████████████████████████▎ | 16.4 MB 5.8 MB/s eta 0:00:01\r\u001b[K     |██████████████████████████████▎ | 16.4 MB 5.8 MB/s eta 0:00:01\r\u001b[K     |██████████████████████████████▎ | 16.4 MB 5.8 MB/s eta 0:00:01\r\u001b[K     |██████████████████████████████▍ | 16.4 MB 5.8 MB/s eta 0:00:01\r\u001b[K     |██████████████████████████████▍ | 16.4 MB 5.8 MB/s eta 0:00:01\r\u001b[K     |██████████████████████████████▍ | 16.4 MB 5.8 MB/s eta 0:00:01\r\u001b[K     |██████████████████████████████▍ | 16.4 MB 5.8 MB/s eta 0:00:01\r\u001b[K     |██████████████████████████████▍ | 16.5 MB 5.8 MB/s eta 0:00:01\r\u001b[K     |██████████████████████████████▍ | 16.5 MB 5.8 MB/s eta 0:00:01\r\u001b[K     |██████████████████████████████▌ | 16.5 MB 5.8 MB/s eta 0:00:01\r\u001b[K     |██████████████████████████████▌ | 16.5 MB 5.8 MB/s eta 0:00:01\r\u001b[K     |██████████████████████████████▌ | 16.5 MB 5.8 MB/s eta 0:00:01\r\u001b[K     |██████████████████████████████▌ | 16.5 MB 5.8 MB/s eta 0:00:01\r\u001b[K     |██████████████████████████████▌ | 16.5 MB 5.8 MB/s eta 0:00:01\r\u001b[K     |██████████████████████████████▌ | 16.5 MB 5.8 MB/s eta 0:00:01\r\u001b[K     |██████████████████████████████▋ | 16.5 MB 5.8 MB/s eta 0:00:01\r\u001b[K     |██████████████████████████████▋ | 16.5 MB 5.8 MB/s eta 0:00:01\r\u001b[K     |██████████████████████████████▋ | 16.6 MB 5.8 MB/s eta 0:00:01\r\u001b[K     |██████████████████████████████▋ | 16.6 MB 5.8 MB/s eta 0:00:01\r\u001b[K     |██████████████████████████████▋ | 16.6 MB 5.8 MB/s eta 0:00:01\r\u001b[K     |██████████████████████████████▋ | 16.6 MB 5.8 MB/s eta 0:00:01\r\u001b[K     |██████████████████████████████▊ | 16.6 MB 5.8 MB/s eta 0:00:01\r\u001b[K     |██████████████████████████████▊ | 16.6 MB 5.8 MB/s eta 0:00:01\r\u001b[K     |██████████████████████████████▊ | 16.6 MB 5.8 MB/s eta 0:00:01\r\u001b[K     |██████████████████████████████▊ | 16.6 MB 5.8 MB/s eta 0:00:01\r\u001b[K     |██████████████████████████████▊ | 16.6 MB 5.8 MB/s eta 0:00:01\r\u001b[K     |██████████████████████████████▉ | 16.7 MB 5.8 MB/s eta 0:00:01\r\u001b[K     |██████████████████████████████▉ | 16.7 MB 5.8 MB/s eta 0:00:01\r\u001b[K     |██████████████████████████████▉ | 16.7 MB 5.8 MB/s eta 0:00:01\r\u001b[K     |██████████████████████████████▉ | 16.7 MB 5.8 MB/s eta 0:00:01\r\u001b[K     |██████████████████████████████▉ | 16.7 MB 5.8 MB/s eta 0:00:01\r\u001b[K     |██████████████████████████████▉ | 16.7 MB 5.8 MB/s eta 0:00:01\r\u001b[K     |███████████████████████████████ | 16.7 MB 5.8 MB/s eta 0:00:01\r\u001b[K     |███████████████████████████████ | 16.7 MB 5.8 MB/s eta 0:00:01\r\u001b[K     |███████████████████████████████ | 16.7 MB 5.8 MB/s eta 0:00:01\r\u001b[K     |███████████████████████████████ | 16.7 MB 5.8 MB/s eta 0:00:01\r\u001b[K     |███████████████████████████████ | 16.8 MB 5.8 MB/s eta 0:00:01\r\u001b[K     |███████████████████████████████ | 16.8 MB 5.8 MB/s eta 0:00:01\r\u001b[K     |███████████████████████████████ | 16.8 MB 5.8 MB/s eta 0:00:01\r\u001b[K     |███████████████████████████████ | 16.8 MB 5.8 MB/s eta 0:00:01\r\u001b[K     |███████████████████████████████ | 16.8 MB 5.8 MB/s eta 0:00:01\r\u001b[K     |███████████████████████████████ | 16.8 MB 5.8 MB/s eta 0:00:01\r\u001b[K     |███████████████████████████████ | 16.8 MB 5.8 MB/s eta 0:00:01\r\u001b[K     |███████████████████████████████ | 16.8 MB 5.8 MB/s eta 0:00:01\r\u001b[K     |███████████████████████████████▏| 16.8 MB 5.8 MB/s eta 0:00:01\r\u001b[K     |███████████████████████████████▏| 16.8 MB 5.8 MB/s eta 0:00:01\r\u001b[K     |███████████████████████████████▏| 16.9 MB 5.8 MB/s eta 0:00:01\r\u001b[K     |███████████████████████████████▏| 16.9 MB 5.8 MB/s eta 0:00:01\r\u001b[K     |███████████████████████████████▏| 16.9 MB 5.8 MB/s eta 0:00:01\r\u001b[K     |███████████████████████████████▏| 16.9 MB 5.8 MB/s eta 0:00:01\r\u001b[K     |███████████████████████████████▎| 16.9 MB 5.8 MB/s eta 0:00:01\r\u001b[K     |███████████████████████████████▎| 16.9 MB 5.8 MB/s eta 0:00:01\r\u001b[K     |███████████████████████████████▎| 16.9 MB 5.8 MB/s eta 0:00:01\r\u001b[K     |███████████████████████████████▎| 16.9 MB 5.8 MB/s eta 0:00:01\r\u001b[K     |███████████████████████████████▎| 16.9 MB 5.8 MB/s eta 0:00:01\r\u001b[K     |███████████████████████████████▎| 16.9 MB 5.8 MB/s eta 0:00:01\r\u001b[K     |███████████████████████████████▍| 17.0 MB 5.8 MB/s eta 0:00:01\r\u001b[K     |███████████████████████████████▍| 17.0 MB 5.8 MB/s eta 0:00:01\r\u001b[K     |███████████████████████████████▍| 17.0 MB 5.8 MB/s eta 0:00:01\r\u001b[K     |███████████████████████████████▍| 17.0 MB 5.8 MB/s eta 0:00:01\r\u001b[K     |███████████████████████████████▍| 17.0 MB 5.8 MB/s eta 0:00:01\r\u001b[K     |███████████████████████████████▍| 17.0 MB 5.8 MB/s eta 0:00:01\r\u001b[K     |███████████████████████████████▌| 17.0 MB 5.8 MB/s eta 0:00:01\r\u001b[K     |███████████████████████████████▌| 17.0 MB 5.8 MB/s eta 0:00:01\r\u001b[K     |███████████████████████████████▌| 17.0 MB 5.8 MB/s eta 0:00:01\r\u001b[K     |███████████████████████████████▌| 17.0 MB 5.8 MB/s eta 0:00:01\r\u001b[K     |███████████████████████████████▌| 17.1 MB 5.8 MB/s eta 0:00:01\r\u001b[K     |███████████████████████████████▌| 17.1 MB 5.8 MB/s eta 0:00:01\r\u001b[K     |███████████████████████████████▋| 17.1 MB 5.8 MB/s eta 0:00:01\r\u001b[K     |███████████████████████████████▋| 17.1 MB 5.8 MB/s eta 0:00:01\r\u001b[K     |███████████████████████████████▋| 17.1 MB 5.8 MB/s eta 0:00:01\r\u001b[K     |███████████████████████████████▋| 17.1 MB 5.8 MB/s eta 0:00:01\r\u001b[K     |███████████████████████████████▋| 17.1 MB 5.8 MB/s eta 0:00:01\r\u001b[K     |███████████████████████████████▊| 17.1 MB 5.8 MB/s eta 0:00:01\r\u001b[K     |███████████████████████████████▊| 17.1 MB 5.8 MB/s eta 0:00:01\r\u001b[K     |███████████████████████████████▊| 17.2 MB 5.8 MB/s eta 0:00:01\r\u001b[K     |███████████████████████████████▊| 17.2 MB 5.8 MB/s eta 0:00:01\r\u001b[K     |███████████████████████████████▊| 17.2 MB 5.8 MB/s eta 0:00:01\r\u001b[K     |███████████████████████████████▊| 17.2 MB 5.8 MB/s eta 0:00:01\r\u001b[K     |███████████████████████████████▉| 17.2 MB 5.8 MB/s eta 0:00:01\r\u001b[K     |███████████████████████████████▉| 17.2 MB 5.8 MB/s eta 0:00:01\r\u001b[K     |███████████████████████████████▉| 17.2 MB 5.8 MB/s eta 0:00:01\r\u001b[K     |███████████████████████████████▉| 17.2 MB 5.8 MB/s eta 0:00:01\r\u001b[K     |███████████████████████████████▉| 17.2 MB 5.8 MB/s eta 0:00:01\r\u001b[K     |███████████████████████████████▉| 17.2 MB 5.8 MB/s eta 0:00:01\r\u001b[K     |████████████████████████████████| 17.3 MB 5.8 MB/s eta 0:00:01\r\u001b[K     |████████████████████████████████| 17.3 MB 5.8 MB/s eta 0:00:01\r\u001b[K     |████████████████████████████████| 17.3 MB 5.8 MB/s eta 0:00:01\r\u001b[K     |████████████████████████████████| 17.3 MB 5.8 MB/s eta 0:00:01\r\u001b[K     |████████████████████████████████| 17.3 MB 5.8 MB/s eta 0:00:01\r\u001b[K     |████████████████████████████████| 17.3 MB 5.8 MB/s eta 0:00:01\r\u001b[K     |████████████████████████████████| 17.3 MB 5.8 MB/s \r\n\u001b[?25hInstalling collected packages: numpy\r\n  Attempting uninstall: numpy\r\n    Found existing installation: numpy 1.21.5\r\n    Not uninstalling numpy at /databricks/python3/lib/python3.9/site-packages, outside environment /local_disk0/.ephemeral_nfs/envs/pythonEnv-51fe4f74-b1fa-44a8-85ac-e09c8f22e42f\r\n    Can't uninstall 'numpy'. No files were found to uninstall.\r\n\u001b[31mERROR: pip's dependency resolver does not currently take into account all the packages that are installed. This behaviour is the source of the following dependency conflicts.\r\nscipy 1.7.3 requires numpy<1.23.0,>=1.16.5, but you have numpy 1.24.3 which is incompatible.\u001b[0m\r\nSuccessfully installed numpy-1.24.3\r\n\u001b[33mWARNING: You are using pip version 21.2.4; however, version 23.1.2 is available.\r\nYou should consider upgrading via the '/local_disk0/.ephemeral_nfs/envs/pythonEnv-51fe4f74-b1fa-44a8-85ac-e09c8f22e42f/bin/python -m pip install --upgrade pip' command.\u001b[0m\r\n"
          ]
        }
      ],
      "execution_count": null
    },
    {
      "cell_type": "code",
      "source": [
        "%Doc2Vec\n"
      ],
      "metadata": {
        "application/vnd.databricks.v1+cell": {
          "showTitle": false,
          "cellMetadata": {},
          "nuid": "755d6ab3-b000-4813-92eb-be88b047c1c2",
          "inputWidgets": {},
          "title": ""
        },
        "id": "wCWf4BRmLajK"
      },
      "outputs": [],
      "execution_count": null
    },
    {
      "cell_type": "code",
      "source": [
        "from pyspark.ml.feature import Word2Vec, RegexTokenizer\n",
        "from pyspark.sql.functions import udf\n",
        "from pyspark.ml.linalg import Vectors, VectorUDT\n",
        "\n",
        "# Define a regular expression tokenizer to split the text into words\n",
        "tokenizer = RegexTokenizer(inputCol=\"reviewText\", outputCol=\"words\", pattern=\"\\\\W\")\n",
        "\n",
        "# Apply the tokenizer to the data\n",
        "words_df = tokenizer.transform(df)\n",
        "\n",
        "# Learn a Doc2Vec model on the text data\n",
        "from gensim.models.doc2vec import Doc2Vec, TaggedDocument\n",
        "\n",
        "# Define a function to convert a row into a TaggedDocument\n",
        "def to_tagged_document(row):\n",
        "    return TaggedDocument(row.words, [str(row.overall)])\n",
        "\n",
        "tagged_data = words_df.rdd.map(to_tagged_document)\n",
        "doc2vec_model = Doc2Vec(vector_size=100, min_count=5, epochs=10)\n",
        "doc2vec_model.build_vocab(tagged_data.collect())\n",
        "doc2vec_model.train(tagged_data.collect(), total_examples=doc2vec_model.corpus_count, epochs=doc2vec_model.epochs)\n",
        "\n",
        "# Define a UDF to apply the infer_vector method on each row\n",
        "infer_vector_udf = udf(lambda words: Vectors.dense(doc2vec_model.infer_vector(words)), VectorUDT())\n",
        "\n",
        "# Add the Doc2Vec features to the data\n",
        "doc2vec_df = words_df.withColumn(\"features\", infer_vector_udf(words_df[\"words\"]))\n",
        "\n",
        "# Split the data into training and test sets\n",
        "(training_data, test_data) = doc2vec_df.randomSplit([0.7, 0.3])\n",
        "\n",
        "# Train a Logistic Regression model on the data\n",
        "from pyspark.ml.classification import LogisticRegression\n",
        "\n",
        "lr = LogisticRegression(labelCol=\"overall\", maxIter=10, regParam=0.01, elasticNetParam=0)\n",
        "lr_model = lr.fit(training_data)\n",
        "\n",
        "# Make predictions on the test data\n",
        "predictions = lr_model.transform(test_data)\n",
        "\n",
        "# Evaluate the model using accuracy metric\n",
        "from pyspark.ml.evaluation import MulticlassClassificationEvaluator\n",
        "\n",
        "evaluator = MulticlassClassificationEvaluator(labelCol=\"overall\", metricName=\"accuracy\")\n",
        "accuracy = evaluator.evaluate(predictions)\n",
        "print(\"Accuracy:\", accuracy)\n"
      ],
      "metadata": {
        "application/vnd.databricks.v1+cell": {
          "showTitle": false,
          "cellMetadata": {
            "rowLimit": 10000,
            "byteLimit": 2048000
          },
          "nuid": "feae5cee-10a9-46e5-9cf6-78f5bb5ed410",
          "inputWidgets": {},
          "title": ""
        },
        "id": "x2VsXRr8LajL",
        "outputId": "7ffcfe5d-df48-4cfd-ded3-43b67c511780"
      },
      "outputs": [
        {
          "output_type": "stream",
          "name": "stdout",
          "text": [
            "Accuracy: 0.7441938741164591\n"
          ]
        }
      ],
      "execution_count": null
    },
    {
      "cell_type": "code",
      "source": [
        "from pyspark.sql.functions import col\n",
        "\n",
        "# Calculate precision and recall\n",
        "tp = predictions.filter((col(\"prediction\") == col(\"overall\")) & (col(\"prediction\") == 1)).count()\n",
        "tn = predictions.filter((col(\"prediction\") == col(\"overall\")) & (col(\"prediction\") == 0)).count()\n",
        "fp = predictions.filter((col(\"prediction\") != col(\"overall\")) & (col(\"prediction\") == 1)).count()\n",
        "fn = predictions.filter((col(\"prediction\") != col(\"overall\")) & (col(\"prediction\") == 0)).count()\n",
        "\n",
        "precision = tp / (tp + fp)\n",
        "recall = tp / (tp + fn)\n",
        "\n",
        "# Display precision and recall\n",
        "print(\"Precision: \", precision)\n",
        "print(\"Recall: \", recall)\n",
        "\n",
        "# Create confusion matrix\n",
        "confusion_matrix = predictions.groupBy(\"prediction\", \"overall\").count().orderBy(\"prediction\", \"overall\")\n",
        "confusion_matrix.show()"
      ],
      "metadata": {
        "application/vnd.databricks.v1+cell": {
          "showTitle": false,
          "cellMetadata": {
            "rowLimit": 10000,
            "byteLimit": 2048000
          },
          "nuid": "409ade65-5b99-4004-9799-5daedb473545",
          "inputWidgets": {},
          "title": ""
        },
        "id": "2G-a5K0gLajL",
        "outputId": "1d7b2589-af68-44f7-ed59-38190fc465f4"
      },
      "outputs": [
        {
          "output_type": "stream",
          "name": "stdout",
          "text": [
            "Precision:  0.5178571428571429\nRecall:  1.0\n+----------+-------+-----+\n|prediction|overall|count|\n+----------+-------+-----+\n|       1.0|    1.0|   29|\n|       1.0|    2.0|   11|\n|       1.0|    3.0|    7|\n|       1.0|    4.0|    4|\n|       1.0|    5.0|    5|\n|       2.0|    1.0|    6|\n|       2.0|    2.0|    6|\n|       2.0|    3.0|    5|\n|       2.0|    4.0|    1|\n|       2.0|    5.0|    1|\n|       3.0|    1.0|   10|\n|       3.0|    2.0|   15|\n|       3.0|    3.0|   61|\n|       3.0|    4.0|   20|\n|       3.0|    5.0|   10|\n|       4.0|    1.0|    2|\n|       4.0|    2.0|    7|\n|       4.0|    3.0|   25|\n|       4.0|    4.0|   96|\n|       4.0|    5.0|   46|\n+----------+-------+-----+\nonly showing top 20 rows\n\n"
          ]
        }
      ],
      "execution_count": null
    },
    {
      "cell_type": "code",
      "source": [
        "from pyspark.mllib.evaluation import MulticlassMetrics\n",
        "\n",
        "# Select prediction and label columns from predictions dataframe\n",
        "predictionAndLabels = predictions.select(\"prediction\", \"overall\").rdd\n",
        "\n",
        "# Instantiate MulticlassMetrics object with prediction and label RDDs\n",
        "metrics = MulticlassMetrics(predictionAndLabels)\n",
        "\n",
        "# Calculate precision for each label\n",
        "labels = [1.0, 2.0, 3.0, 4.0, 5.0] # your 5 labels\n",
        "precisions = {}\n",
        "for label in labels:\n",
        "    precisions[label] = metrics.precision(label)\n",
        "\n",
        "# Print precision for each label\n",
        "for label in labels:\n",
        "    print(f\"Precision for label {label}: {precisions[label]}\")\n",
        "\n",
        "# Calculate confusion matrix\n",
        "confusion_matrix = metrics.confusionMatrix().toArray()\n",
        "\n",
        "# Print confusion matrix\n",
        "print(\"Confusion Matrix:\")\n",
        "for i in range(len(confusion_matrix)):\n",
        "    row = \"\"\n",
        "    for j in range(len(confusion_matrix)):\n",
        "        row += str(confusion_matrix[i][j]) + \"\\t\"\n",
        "    print(row)"
      ],
      "metadata": {
        "application/vnd.databricks.v1+cell": {
          "showTitle": false,
          "cellMetadata": {
            "rowLimit": 10000,
            "byteLimit": 2048000
          },
          "nuid": "67e1724d-de02-4887-a604-dd8f03df01f0",
          "inputWidgets": {},
          "title": ""
        },
        "id": "yEa0mxC6LajL",
        "outputId": "faa00a8f-8bbd-46df-e9bc-5894a046a3c4"
      },
      "outputs": [
        {
          "output_type": "stream",
          "name": "stderr",
          "text": [
            "/databricks/spark/python/pyspark/sql/context.py:165: FutureWarning: Deprecated in 3.0.0. Use SparkSession.builder.getOrCreate() instead.\n  warnings.warn(\n"
          ]
        },
        {
          "output_type": "stream",
          "name": "stdout",
          "text": [
            "Precision for label 1.0: 0.5178571428571429\nPrecision for label 2.0: 0.3157894736842105\nPrecision for label 3.0: 0.5258620689655172\nPrecision for label 4.0: 0.5454545454545454\nPrecision for label 5.0: 0.7753456221198156\nConfusion Matrix:\n29.0\t6.0\t10.0\t2.0\t51.0\t0.0\t\n11.0\t6.0\t15.0\t7.0\t46.0\t0.0\t\n7.0\t5.0\t61.0\t25.0\t136.0\t0.0\t\n4.0\t1.0\t20.0\t96.0\t351.0\t0.0\t\n5.0\t1.0\t10.0\t46.0\t2019.0\t0.0\t\n0.0\t0.0\t0.0\t0.0\t1.0\t0.0\t\n"
          ]
        }
      ],
      "execution_count": null
    }
  ],
  "metadata": {
    "application/vnd.databricks.v1+notebook": {
      "notebookName": "2023-05-14 - DBFS Example",
      "dashboards": [],
      "notebookMetadata": {
        "pythonIndentUnit": 4,
        "mostRecentlyExecutedCommandWithImplicitDF": {
          "commandId": 2208744803481293,
          "dataframes": [
            "_sqldf"
          ]
        }
      },
      "language": "python",
      "widgets": {}
    },
    "colab": {
      "provenance": []
    }
  },
  "nbformat": 4,
  "nbformat_minor": 0
}